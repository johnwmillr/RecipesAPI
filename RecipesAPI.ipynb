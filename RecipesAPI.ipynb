{
 "cells": [
  {
   "cell_type": "markdown",
   "metadata": {},
   "source": [
    "## Food2Fork API ##\n",
    "www.food2fork.com/about/api"
   ]
  },
  {
   "cell_type": "code",
   "execution_count": 1,
   "metadata": {
    "collapsed": true
   },
   "outputs": [],
   "source": [
    "import re\n",
    "import requests\n",
    "import urllib2\n",
    "import json\n",
    "from bs4 import BeautifulSoup\n",
    "from matplotlib import pyplot as plt\n",
    "import nltk"
   ]
  },
  {
   "cell_type": "code",
   "execution_count": 2,
   "metadata": {
    "collapsed": true
   },
   "outputs": [],
   "source": [
    "%matplotlib inline"
   ]
  },
  {
   "cell_type": "markdown",
   "metadata": {},
   "source": [
    "#### Load API credentials ####"
   ]
  },
  {
   "cell_type": "code",
   "execution_count": 3,
   "metadata": {
    "collapsed": true
   },
   "outputs": [],
   "source": [
    "def loadCredentials():\n",
    "    filename = 'secrets.txt'\n",
    "    for line in open(filename).readlines():\n",
    "        if \"API\" in line:    \n",
    "            api_key = line.split(\": \")[1].translate(None,'\\n')\n",
    "        \n",
    "    return api_key"
   ]
  },
  {
   "cell_type": "code",
   "execution_count": 4,
   "metadata": {
    "collapsed": true
   },
   "outputs": [],
   "source": [
    "API_KEY = loadCredentials()"
   ]
  },
  {
   "cell_type": "code",
   "execution_count": 5,
   "metadata": {
    "collapsed": true
   },
   "outputs": [],
   "source": [
    "URL_API = 'http://food2fork.com/api'\n",
    "URL_SEARCH = URL_API + '/search/?'\n",
    "URL_GET = URL_API + '/get/?'\n",
    "\n",
    "# Base URLs\n",
    "search_url = \"http://food2fork.com/api/search\"\n",
    "recipe_url = \"http://food2fork.com/api/get\""
   ]
  },
  {
   "cell_type": "markdown",
   "metadata": {},
   "source": [
    "#### Make a GET request to the API ####"
   ]
  },
  {
   "cell_type": "code",
   "execution_count": 7,
   "metadata": {},
   "outputs": [
    {
     "name": "stdout",
     "output_type": "stream",
     "text": [
      "\n",
      "Page 1 is the last page.\n"
     ]
    }
   ],
   "source": [
    "# api_request = search_url + \"\"\n",
    "page = 1\n",
    "while True:    \n",
    "#     api_request = \"http://food2fork.com/api/search?key=\"+API_KEY+\"&q=shredded%20chicken&page=\"+str(page)\n",
    "    api_request = \"http://food2fork.com/api/search?key=\"+API_KEY+\"&q=chocolate%20chip%20cookies&page=\"+str(page)\n",
    "\n",
    "    # I don't understand headers well enough yet, but I got a 403 error without this header\n",
    "    # https://en.wikipedia.org/wiki/User_agent\n",
    "    hdr = {'User-Agent': 'Mozilla/5.0 (X11; Linux x86_64)'}\n",
    "\n",
    "    request = urllib2.Request(api_request, headers=hdr)\n",
    "    response = urllib2.urlopen(request)\n",
    "    raw = response.read()\n",
    "    json_obj = json.loads(raw)    \n",
    "    \n",
    "    if json_obj['count']!=30 or page == 1:\n",
    "        print(\"\\nPage {p} is the last page.\".format(p=page))\n",
    "        break\n",
    "    elif page==1:\n",
    "        print(\"\\nPage: {p}, \".format(p=page)),\n",
    "    else:\n",
    "        print(\"{p}, \".format(p=page)),\n",
    "        \n",
    "    page += 1\n",
    "    \n",
    "recipes = json_obj['recipes']"
   ]
  },
  {
   "cell_type": "markdown",
   "metadata": {},
   "source": [
    "### Scrape ingredients from a Food2Fork.com page ###"
   ]
  },
  {
   "cell_type": "code",
   "execution_count": 93,
   "metadata": {
    "collapsed": true
   },
   "outputs": [],
   "source": [
    "def getIngredients(json_obj):\n",
    "    URL = json_obj['f2f_url']\n",
    "    page = requests.get(URL)\n",
    "    html = BeautifulSoup(page.text, \"html.parser\")\n",
    "    \n",
    "    ingredientsList = html.find_all(\"li\")\n",
    "    ingredients = [i.text for i in ingredientsList if (\"ingredients\" in i.decode()) and (i.text!='')] # Feels like a kludge...\n",
    "    return ingredients"
   ]
  },
  {
   "cell_type": "code",
   "execution_count": 94,
   "metadata": {},
   "outputs": [
    {
     "data": {
      "text/plain": [
       "[u' 1 cup butter, softened',\n",
       " u' 1 cup packed light brown sugar',\n",
       " u' 1/2 cup white sugar',\n",
       " u' 2 eggs',\n",
       " u' 2 teaspoons vanilla extract',\n",
       " u' 1 1/4 cups all-purpose flour',\n",
       " u' 1/2 teaspoon baking soda',\n",
       " u' 1 teaspoon salt',\n",
       " u' 3 cups quick-cooking oats',\n",
       " u' 1 cup chopped walnuts',\n",
       " u' 1 cup semisweet chocolate chips']"
      ]
     },
     "execution_count": 94,
     "metadata": {},
     "output_type": "execute_result"
    }
   ],
   "source": [
    "getIngredients(recipes[0])"
   ]
  },
  {
   "cell_type": "code",
   "execution_count": 98,
   "metadata": {},
   "outputs": [
    {
     "data": {
      "text/plain": [
       "[(u'Chewy Chocolate Chip Oatmeal Cookies',\n",
       "  [u' 1 cup butter, softened',\n",
       "   u' 1 cup packed light brown sugar',\n",
       "   u' 1/2 cup white sugar',\n",
       "   u' 2 eggs',\n",
       "   u' 2 teaspoons vanilla extract',\n",
       "   u' 1 1/4 cups all-purpose flour',\n",
       "   u' 1/2 teaspoon baking soda',\n",
       "   u' 1 teaspoon salt',\n",
       "   u' 3 cups quick-cooking oats',\n",
       "   u' 1 cup chopped walnuts',\n",
       "   u' 1 cup semisweet chocolate chips']),\n",
       " (u'Vanilla Pudding Chocolate Chip Cookies',\n",
       "  [u' 1 cup unsalted butter, at room temperature',\n",
       "   u' 3/4 cup brown sugar',\n",
       "   u' 1/4 cup granulated sugar',\n",
       "   u' 3.4 oz. package vanilla instant pudding mix',\n",
       "   u' 2 large eggs',\n",
       "   u' 1 teaspoon vanilla extract',\n",
       "   u' 2 1/4 cups all-purpose flour',\n",
       "   u' 1 teaspoon baking soda',\n",
       "   u' 1/2 teaspoon salt',\n",
       "   u' 2 cups semi-sweet chocolate chips']),\n",
       " (u'Best Chocolate Chip Cookies',\n",
       "  [u' 1 cup butter, softened',\n",
       "   u' 1 cup white sugar',\n",
       "   u' 1 cup packed brown sugar',\n",
       "   u' 2 eggs',\n",
       "   u' 2 teaspoons vanilla extract',\n",
       "   u' 3 cups all-purpose flour',\n",
       "   u' 1 teaspoon baking soda',\n",
       "   u' 2 teaspoons hot water',\n",
       "   u' 1/2 teaspoon salt',\n",
       "   u' 2 cups semisweet chocolate chips',\n",
       "   u' 1 cup chopped walnuts']),\n",
       " (u'Salted Caramel Chocolate Chip Cookies',\n",
       "  [u' 2 cups all-purpose Gold Medal flour',\n",
       "   u' 2 teaspoons cornstarch',\n",
       "   u' 1 teaspoon baking soda',\n",
       "   u' 1/2 teaspoon sea salt',\n",
       "   u' 3/4 cup unsalted butter, at room temperature',\n",
       "   u' 1 cup brown sugar',\n",
       "   u' 1/4 cup granulated sugar',\n",
       "   u' 1 large egg',\n",
       "   u' 2 teaspoons vanilla extract',\n",
       "   u' 1 cup semi-sweet chocolate chips',\n",
       "   u' 1/2 cup Kraft Caramel Bits',\n",
       "   u' Sea salt, for sprinkling on cookies'])]"
      ]
     },
     "execution_count": 98,
     "metadata": {},
     "output_type": "execute_result"
    }
   ],
   "source": [
    "[(recipe['title'],getIngredients(recipe)) for recipe in recipes[:4]]"
   ]
  },
  {
   "cell_type": "markdown",
   "metadata": {},
   "source": [
    "## Use NLTK to parse amounts out from ingredients ##"
   ]
  },
  {
   "cell_type": "code",
   "execution_count": null,
   "metadata": {
    "collapsed": true
   },
   "outputs": [],
   "source": [
    "import nltk"
   ]
  },
  {
   "cell_type": "code",
   "execution_count": 130,
   "metadata": {},
   "outputs": [
    {
     "data": {
      "text/plain": [
       "[u'1']"
      ]
     },
     "execution_count": 130,
     "metadata": {},
     "output_type": "execute_result"
    }
   ],
   "source": [
    "re.findall(\"[0-9]\",ingredients[0])"
   ]
  },
  {
   "cell_type": "markdown",
   "metadata": {},
   "source": [
    "### Load json object from disk (for offline work) ###"
   ]
  },
  {
   "cell_type": "code",
   "execution_count": 18,
   "metadata": {
    "collapsed": true
   },
   "outputs": [],
   "source": [
    "raw = open(\"cookies.txt\",\"r\").read()\n",
    "# raw = open(\"chicken.txt\",\"r\").read()\n",
    "json_obj = json.loads(raw)"
   ]
  },
  {
   "cell_type": "code",
   "execution_count": 11,
   "metadata": {
    "collapsed": true
   },
   "outputs": [],
   "source": [
    "# This is how you save a json object as a text file. It's easy!\n",
    "with open(\"cookies.txt\",\"w\") as outfile:\n",
    "    json.dump(json_obj, outfile)"
   ]
  },
  {
   "cell_type": "markdown",
   "metadata": {},
   "source": [
    "### Misc ###"
   ]
  },
  {
   "cell_type": "code",
   "execution_count": 21,
   "metadata": {},
   "outputs": [
    {
     "data": {
      "image/png": "[encoded data removed]",
      "text/plain": [
       "<matplotlib.figure.Figure at 0x10f558d10>"
      ]
     },
     "metadata": {},
     "output_type": "display_data"
    }
   ],
   "source": [
    "scores = [recipe['social_rank'] for recipe in json_obj]\n",
    "plt.plot(scores,'o')\n",
    "plt.show()"
   ]
  }
 ],
 "metadata": {
  "kernelspec": {
   "display_name": "Python 2",
   "language": "python",
   "name": "python2"
  },
  "language_info": {
   "codemirror_mode": {
    "name": "ipython",
    "version": 2
   },
   "file_extension": ".py",
   "mimetype": "text/x-python",
   "name": "python",
   "nbconvert_exporter": "python",
   "pygments_lexer": "ipython2",
   "version": "2.7.13"
  }
 },
 "nbformat": 4,
 "nbformat_minor": 2
}
