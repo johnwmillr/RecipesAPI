{
 "cells": [
  {
   "cell_type": "markdown",
   "metadata": {},
   "source": [
    "## Food2Fork API ##\n",
    "www.food2fork.com/about/api"
   ]
  },
  {
   "cell_type": "code",
   "execution_count": 49,
   "metadata": {
    "collapsed": true
   },
   "outputs": [],
   "source": [
    "# API access\n",
    "import requests\n",
    "import urllib2\n",
    "from urllib import urlencode\n",
    "import json\n",
    "from bs4 import BeautifulSoup\n",
    "\n",
    "# Plotting\n",
    "from matplotlib import pyplot as plt\n",
    "\n",
    "# Parsing ingredient lists\n",
    "import re\n",
    "import nltk\n",
    "import itertools\n",
    "from itertools import compress"
   ]
  },
  {
   "cell_type": "code",
   "execution_count": 50,
   "metadata": {
    "collapsed": true
   },
   "outputs": [],
   "source": [
    "%matplotlib inline"
   ]
  },
  {
   "cell_type": "markdown",
   "metadata": {},
   "source": [
    "### API credentials ###"
   ]
  },
  {
   "cell_type": "code",
   "execution_count": 51,
   "metadata": {
    "collapsed": true
   },
   "outputs": [],
   "source": [
    "def loadCredentials():\n",
    "    filename = 'secrets.txt'\n",
    "    for line in open(filename).readlines():\n",
    "        if \"API\" in line:    \n",
    "            api_key = line.split(\": \")[1].translate(None,'\\n')\n",
    "        \n",
    "    return api_key"
   ]
  },
  {
   "cell_type": "code",
   "execution_count": 52,
   "metadata": {
    "collapsed": true
   },
   "outputs": [],
   "source": [
    "# Load the API Key\n",
    "_API_KEY = loadCredentials()\n",
    "\n",
    "# Food2Fork links\n",
    "_URL_API = \"http://food2fork.com/api/\"\n",
    "_URL_SEARCH = _URL_API + 'search?'\n",
    "_URL_GET    = _URL_API + 'get?'\n",
    "_HEADER = {'User-Agent': 'Mozilla/5.0 (X11; Linux x86_64)'}"
   ]
  },
  {
   "cell_type": "markdown",
   "metadata": {},
   "source": [
    "### Search the Food2Fork API ###"
   ]
  },
  {
   "cell_type": "code",
   "execution_count": 53,
   "metadata": {
    "collapsed": true
   },
   "outputs": [],
   "source": [
    "def search(query, page=1, count=1):   \n",
    "    \"\"\"Return a list of recipes from the Food2Fork.com database\"\"\"\n",
    "    \n",
    "    assert(0 < count <= 30), 'max 30 results per call, min 1' #https://github.com/davebshow/food2forkclient/\n",
    "        \n",
    "    # Format the request URL\n",
    "    query_params = {\"key\":_API_KEY,\"q\":query, \"page\":page, \"count\":count}            \n",
    "    api_request = _URL_SEARCH + urlencode(query_params)    \n",
    "\n",
    "    # Make the request\n",
    "    request  = urllib2.Request(api_request, headers=_HEADER)\n",
    "    response = urllib2.urlopen(request)\n",
    "    raw = response.read()\n",
    "    json_obj = json.loads(raw)  \n",
    "    \n",
    "    return json_obj['recipes']"
   ]
  },
  {
   "cell_type": "code",
   "execution_count": 54,
   "metadata": {},
   "outputs": [
    {
     "name": "stdout",
     "output_type": "stream",
     "text": [
      "http://static.food2fork.com/508714d505.jpg\n"
     ]
    },
    {
     "data": {
      "text/plain": [
       "{u'f2f_url': u'http://food2fork.com/view/6868',\n",
       " u'image_url': u'http://static.food2fork.com/508714d505.jpg',\n",
       " u'publisher': u'All Recipes',\n",
       " u'publisher_url': u'http://allrecipes.com',\n",
       " u'recipe_id': u'6868',\n",
       " u'social_rank': 99.99999999999996,\n",
       " u'source_url': u'http://allrecipes.com/Recipe/Chewy-Chocolate-Chip-Oatmeal-Cookies/Detail.aspx',\n",
       " u'title': u'Chewy Chocolate Chip Oatmeal Cookies'}"
      ]
     },
     "execution_count": 54,
     "metadata": {},
     "output_type": "execute_result"
    }
   ],
   "source": [
    "# Search for cookie recipes\n",
    "recipes = search('Chocolate chip cookies',count=5)\n",
    "print(recipes[0]['image_url'])\n",
    "recipes[0]"
   ]
  },
  {
   "cell_type": "markdown",
   "metadata": {},
   "source": [
    "### Request a specific recipe from the API ###"
   ]
  },
  {
   "cell_type": "code",
   "execution_count": 55,
   "metadata": {
    "collapsed": true
   },
   "outputs": [],
   "source": [
    "def getRecipe(recipe_id):\n",
    "    \"\"\"Return the recipe specified by *recipe_id* from Food2Fork's database\"\"\"\n",
    "\n",
    "    # Format the request URL\n",
    "    api_request = _URL_GET + urlencode({\"key\":_API_KEY, \"rId\":recipe_id})\n",
    "    \n",
    "    # Make the request\n",
    "    request  = urllib2.Request(api_request, headers=_HEADER)\n",
    "    response = urllib2.urlopen(request)\n",
    "    raw = response.read()\n",
    "    json_obj = json.loads(raw)  \n",
    "    \n",
    "    return json_obj['recipe']"
   ]
  },
  {
   "cell_type": "code",
   "execution_count": 56,
   "metadata": {},
   "outputs": [
    {
     "data": {
      "text/plain": [
       "{u'f2f_url': u'http://food2fork.com/view/35130',\n",
       " u'image_url': u'http://static.food2fork.com/BananasFosterPancakes15000eeed5d6.jpg',\n",
       " u'ingredients': [u'1 cup all purpose flour',\n",
       "  u'1 teaspoon baking powder',\n",
       "  u'1/4 teaspoon salt',\n",
       "  u'1/4 teaspoon cinnamon',\n",
       "  u'1 cup milk',\n",
       "  u'1 egg',\n",
       "  u'2 tablespoons brown sugar',\n",
       "  u'2 tablespoons unsalted butter (melted)',\n",
       "  u'2 overripe bananas (peeled and mashed)',\n",
       "  u'2 tablespoons butter',\n",
       "  u'2 tablespoons brown sugar',\n",
       "  u'2 dashes of cinnamon',\n",
       "  u'2 ripe bananas (peeled and sliced)',\n",
       "  u'2 ounces dark rum\\n'],\n",
       " u'publisher': u'Closet Cooking',\n",
       " u'publisher_url': u'http://closetcooking.com',\n",
       " u'recipe_id': u'35130',\n",
       " u'social_rank': 38.259222092243164,\n",
       " u'source_url': u'http://www.closetcooking.com/2010/05/bananas-foster-pancakes.html',\n",
       " u'title': u'Bananas Foster Pancakes'}"
      ]
     },
     "execution_count": 56,
     "metadata": {},
     "output_type": "execute_result"
    }
   ],
   "source": [
    "r = getRecipe('35130')\n",
    "r"
   ]
  },
  {
   "cell_type": "markdown",
   "metadata": {},
   "source": [
    "### Scrape ingredients from a Food2Fork.com page ###"
   ]
  },
  {
   "cell_type": "code",
   "execution_count": 57,
   "metadata": {
    "collapsed": true
   },
   "outputs": [],
   "source": [
    "def getIngredients(json_obj):\n",
    "    r = getRecipe(json_obj['recipe_id'])\n",
    "    return [i.strip('\\n').encode('ascii', 'ignore') for i in r['ingredients']]"
   ]
  },
  {
   "cell_type": "code",
   "execution_count": 58,
   "metadata": {},
   "outputs": [
    {
     "data": {
      "text/plain": [
       "['1 cup butter, softened',\n",
       " '1 cup packed light brown sugar',\n",
       " '1/2 cup white sugar',\n",
       " '2 eggs',\n",
       " '2 teaspoons vanilla extract',\n",
       " '1 1/4 cups all-purpose flour',\n",
       " '1/2 teaspoon baking soda',\n",
       " '1 teaspoon salt',\n",
       " '3 cups quick-cooking oats',\n",
       " '1 cup chopped walnuts',\n",
       " '1 cup semisweet chocolate chips']"
      ]
     },
     "execution_count": 58,
     "metadata": {},
     "output_type": "execute_result"
    }
   ],
   "source": [
    "ingredients = getIngredients(recipes[0])\n",
    "ingredients"
   ]
  },
  {
   "cell_type": "markdown",
   "metadata": {},
   "source": [
    "## Parse ingredient amounts using reg exp and NLTK ##"
   ]
  },
  {
   "cell_type": "code",
   "execution_count": 302,
   "metadata": {
    "collapsed": true
   },
   "outputs": [],
   "source": [
    "class Ingredient(object):\n",
    "    \n",
    "    def __init__(self, kind, amount, units):\n",
    "        self._kind   = kind # e.g. butter, sugar, etc. (this needs a better variable name than \"kind\")        \n",
    "        self._amount = amount # How many of units?\n",
    "        self._units = units   # Measurement units (e.g. cup, tablespoon, pound, etc.)\n",
    "                \n",
    "    @property\n",
    "    def kind(self):\n",
    "        return self._kind\n",
    "    \n",
    "    @property\n",
    "    def amount(self):\n",
    "        return self._amount\n",
    "    \n",
    "    @property\n",
    "    def units(self):\n",
    "        return self._units\n",
    "    \n",
    "    def __repr__(self):        \n",
    "        return repr((self.amount, self.units, self.kind))"
   ]
  },
  {
   "cell_type": "code",
   "execution_count": 325,
   "metadata": {},
   "outputs": [],
   "source": [
    "def parseIngredients(ingrds):\n",
    "    \n",
    "    # There must be a function to do the start:stop indexing I'm kludging here\n",
    "    expr = '(\\d{0,2}|(\\d*(/|.)\\d*))? (\\d/\\d)?'\n",
    "    amounts = [i[re.match(expr,i).start():re.match(expr,i).end()].strip() for i in ingrds]    \n",
    "    units = [i[re.match(expr,i).end():].strip().split()[0] for i in ingrds]\n",
    "    kinds = [i[re.match(expr,i).end():].strip().split()[1:] for i in ingrds]\n",
    "                \n",
    "    # Remove adjectives from kinds    \n",
    "    colors = ['white','brown']\n",
    "    POS = [nltk.pos_tag(kind) for kind in kinds]\n",
    "    mask_not_vbd = [[('VBD'!=word[1])and('VBN'!=word[1]) for word in sent] for sent in POS]       \n",
    "    kinds = [list(compress(pos,mask)) for pos,mask in zip(POS,mask_not_vbd)]\n",
    "    kinds = [' '.join([k[0] for k in tup]) for tup in kinds]\n",
    "    \n",
    "    # Check for eggs (kludge, how do you deal with this??)\n",
    "    for n in xrange(len(units)):\n",
    "        if units[n]=='egg' or units[n]=='eggs':\n",
    "            kinds[n] = units[n]\n",
    "            units[n] = units[n]\n",
    "            \n",
    "    parsed_ingredients = []\n",
    "    for i in xrange(len(amounts)):\n",
    "        parsed_ingredients.append(Ingredient(kinds[i],amounts[i],units[i]))\n",
    "        \n",
    "    return parsed_ingredients"
   ]
  },
  {
   "cell_type": "code",
   "execution_count": 324,
   "metadata": {},
   "outputs": [],
   "source": [
    "recipes = search(\"Chocolate chip cookies\",count=5)"
   ]
  },
  {
   "cell_type": "code",
   "execution_count": 327,
   "metadata": {},
   "outputs": [
    {
     "name": "stdout",
     "output_type": "stream",
     "text": [
      "Chewy Chocolate Chip Oatmeal Cookies\n",
      "['1 cup butter, softened', '1 cup packed light brown sugar', '1/2 cup white sugar', '2 eggs', '2 teaspoons vanilla extract', '1 1/4 cups all-purpose flour', '1/2 teaspoon baking soda', '1 teaspoon salt', '3 cups quick-cooking oats', '1 cup chopped walnuts', '1 cup semisweet chocolate chips']\n"
     ]
    },
    {
     "data": {
      "text/plain": [
       "[('1', 'cup', 'butter,'),\n",
       " ('1', 'cup', 'light brown sugar'),\n",
       " ('1/2', 'cup', 'white sugar'),\n",
       " ('2', 'eggs', 'eggs'),\n",
       " ('2', 'teaspoons', 'vanilla extract'),\n",
       " ('1 1/4', 'cups', 'all-purpose flour'),\n",
       " ('1/2', 'teaspoon', 'baking soda'),\n",
       " ('1', 'teaspoon', 'salt'),\n",
       " ('3', 'cups', 'quick-cooking oats'),\n",
       " ('1', 'cup', 'walnuts'),\n",
       " ('1', 'cup', 'semisweet chocolate chips')]"
      ]
     },
     "execution_count": 327,
     "metadata": {},
     "output_type": "execute_result"
    }
   ],
   "source": [
    "recipe = recipes[0]\n",
    "ingredients = getIngredients(recipe)\n",
    "print(recipe['title'])\n",
    "print(ingredients)\n",
    "parsed = parseIngredients(ingredients)\n",
    "parsed"
   ]
  }
 ],
 "metadata": {
  "kernelspec": {
   "display_name": "Python 2",
   "language": "python",
   "name": "python2"
  },
  "language_info": {
   "codemirror_mode": {
    "name": "ipython",
    "version": 2
   },
   "file_extension": ".py",
   "mimetype": "text/x-python",
   "name": "python",
   "nbconvert_exporter": "python",
   "pygments_lexer": "ipython2",
   "version": "2.7.13"
  }
 },
 "nbformat": 4,
 "nbformat_minor": 2
}
