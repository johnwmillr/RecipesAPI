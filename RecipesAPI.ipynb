{
 "cells": [
  {
   "cell_type": "markdown",
   "metadata": {},
   "source": [
    "## Food2Fork API ##\n",
    "www.food2fork.com/about/api"
   ]
  },
  {
   "cell_type": "code",
   "execution_count": 1,
   "metadata": {
    "collapsed": true
   },
   "outputs": [],
   "source": [
    "# API access\n",
    "import requests\n",
    "import urllib2\n",
    "from urllib import urlencode\n",
    "import json\n",
    "from bs4 import BeautifulSoup\n",
    "\n",
    "# Plotting\n",
    "from matplotlib import pyplot as plt\n",
    "\n",
    "# Parsing ingredient lists\n",
    "import re\n",
    "import nltk\n",
    "import itertools\n",
    "from itertools import compress"
   ]
  },
  {
   "cell_type": "code",
   "execution_count": 2,
   "metadata": {
    "collapsed": true
   },
   "outputs": [],
   "source": [
    "%matplotlib inline"
   ]
  },
  {
   "cell_type": "markdown",
   "metadata": {},
   "source": [
    "### API credentials ###"
   ]
  },
  {
   "cell_type": "code",
   "execution_count": 3,
   "metadata": {
    "collapsed": true
   },
   "outputs": [],
   "source": [
    "def loadCredentials():\n",
    "    filename = 'secrets.txt'\n",
    "    for line in open(filename).readlines():\n",
    "        if \"API\" in line:    \n",
    "            api_key = line.split(\": \")[1].translate(None,'\\n')\n",
    "        \n",
    "    return api_key"
   ]
  },
  {
   "cell_type": "code",
   "execution_count": 11,
   "metadata": {},
   "outputs": [],
   "source": [
    "# Load the API Key\n",
    "_API_KEY = loadCredentials()\n",
    "\n",
    "# Food2Fork links\n",
    "_URL_API = \"http://food2fork.com/api/\"\n",
    "_URL_SEARCH = _URL_API + 'search?'\n",
    "_URL_GET    = _URL_API + 'get?'\n",
    "_HEADER = {'User-Agent': 'Mozilla/5.0 (X11; Linux x86_64)'}"
   ]
  },
  {
   "cell_type": "markdown",
   "metadata": {},
   "source": [
    "### Search the Food2Fork API ###"
   ]
  },
  {
   "cell_type": "code",
   "execution_count": 17,
   "metadata": {
    "collapsed": true
   },
   "outputs": [],
   "source": [
    "def search(query, page=1, count=1):   \n",
    "    \"\"\"Return a list of recipes from the Food2Fork.com database\"\"\"\n",
    "    \n",
    "    assert(0 < count <= 30), 'max 30 results per call, min 1' #https://github.com/davebshow/food2forkclient/\n",
    "        \n",
    "    # Format the request URL\n",
    "    query_params = {\"key\":_API_KEY,\"q\":query, \"page\":page, \"count\":count}            \n",
    "    api_request = _URL_SEARCH + urlencode(query_params)    \n",
    "\n",
    "    # Make the request\n",
    "    request  = urllib2.Request(api_request, headers=_HEADER)\n",
    "    response = urllib2.urlopen(request)\n",
    "    raw = response.read()\n",
    "    json_obj = json.loads(raw)['recipes']\n",
    "    \n",
    "    if len(json_obj)==1:    \n",
    "        return json_obj[0]\n",
    "    else:\n",
    "        return json_obj"
   ]
  },
  {
   "cell_type": "code",
   "execution_count": 18,
   "metadata": {},
   "outputs": [
    {
     "name": "stdout",
     "output_type": "stream",
     "text": [
      "http://static.food2fork.com/508714d505.jpg\n"
     ]
    },
    {
     "data": {
      "text/plain": [
       "{u'f2f_url': u'http://food2fork.com/view/6868',\n",
       " u'image_url': u'http://static.food2fork.com/508714d505.jpg',\n",
       " u'publisher': u'All Recipes',\n",
       " u'publisher_url': u'http://allrecipes.com',\n",
       " u'recipe_id': u'6868',\n",
       " u'social_rank': 99.99999999999996,\n",
       " u'source_url': u'http://allrecipes.com/Recipe/Chewy-Chocolate-Chip-Oatmeal-Cookies/Detail.aspx',\n",
       " u'title': u'Chewy Chocolate Chip Oatmeal Cookies'}"
      ]
     },
     "execution_count": 18,
     "metadata": {},
     "output_type": "execute_result"
    }
   ],
   "source": [
    "# Search for cookie recipes\n",
    "recipes = search('Chocolate chip cookies',count=5)\n",
    "print(recipes[0]['image_url'])\n",
    "recipes[0]"
   ]
  },
  {
   "cell_type": "markdown",
   "metadata": {},
   "source": [
    "### Request a specific recipe from the API ###"
   ]
  },
  {
   "cell_type": "code",
   "execution_count": 19,
   "metadata": {
    "collapsed": true
   },
   "outputs": [],
   "source": [
    "def getRecipe(recipe_id):\n",
    "    \"\"\"Return the recipe specified by *recipe_id* from Food2Fork's database\"\"\"\n",
    "\n",
    "    # Format the request URL\n",
    "    api_request = _URL_GET + urlencode({\"key\":_API_KEY, \"rId\":recipe_id})\n",
    "    \n",
    "    # Make the request\n",
    "    request  = urllib2.Request(api_request, headers=_HEADER)\n",
    "    response = urllib2.urlopen(request)\n",
    "    raw = response.read()\n",
    "    json_obj = json.loads(raw)  \n",
    "    \n",
    "    return json_obj['recipe']"
   ]
  },
  {
   "cell_type": "markdown",
   "metadata": {},
   "source": [
    "### Scrape ingredients from a Food2Fork.com page ###"
   ]
  },
  {
   "cell_type": "code",
   "execution_count": 20,
   "metadata": {
    "collapsed": true
   },
   "outputs": [],
   "source": [
    "def getIngredients(json_obj):\n",
    "    r = getRecipe(json_obj['recipe_id'])\n",
    "    return [i.strip('\\n').encode('ascii', 'ignore') for i in r['ingredients']]"
   ]
  },
  {
   "cell_type": "code",
   "execution_count": 21,
   "metadata": {},
   "outputs": [
    {
     "data": {
      "text/plain": [
       "['1 cup butter, softened',\n",
       " '1 cup packed light brown sugar',\n",
       " '1/2 cup white sugar',\n",
       " '2 eggs',\n",
       " '2 teaspoons vanilla extract',\n",
       " '1 1/4 cups all-purpose flour',\n",
       " '1/2 teaspoon baking soda',\n",
       " '1 teaspoon salt',\n",
       " '3 cups quick-cooking oats',\n",
       " '1 cup chopped walnuts',\n",
       " '1 cup semisweet chocolate chips']"
      ]
     },
     "execution_count": 21,
     "metadata": {},
     "output_type": "execute_result"
    }
   ],
   "source": [
    "ingredients = getIngredients(getRecipe(search(\"Chocolate chip cookies\")['recipe_id']))\n",
    "ingredients"
   ]
  },
  {
   "cell_type": "markdown",
   "metadata": {},
   "source": [
    "## Parse ingredient amounts using reg exp and NLTK ##"
   ]
  },
  {
   "cell_type": "code",
   "execution_count": 25,
   "metadata": {},
   "outputs": [],
   "source": [
    "# https://pypi.python.org/pypi/ingredient-parser/1.0.1\n",
    "from ingredient_parser.en import parse"
   ]
  },
  {
   "cell_type": "code",
   "execution_count": 28,
   "metadata": {},
   "outputs": [
    {
     "data": {
      "text/plain": [
       "['1 cup butter, softened',\n",
       " '1 cup packed light brown sugar',\n",
       " '1/2 cup white sugar',\n",
       " '2 eggs',\n",
       " '2 teaspoons vanilla extract',\n",
       " '1 1/4 cups all-purpose flour',\n",
       " '1/2 teaspoon baking soda',\n",
       " '1 teaspoon salt',\n",
       " '3 cups quick-cooking oats',\n",
       " '1 cup chopped walnuts',\n",
       " '1 cup semisweet chocolate chips']"
      ]
     },
     "execution_count": 28,
     "metadata": {},
     "output_type": "execute_result"
    }
   ],
   "source": [
    "ingredients"
   ]
  },
  {
   "cell_type": "code",
   "execution_count": 29,
   "metadata": {},
   "outputs": [
    {
     "data": {
      "text/plain": [
       "[{'measure': '1 cup', 'name': 'butter, softened'},\n",
       " {'measure': '1 cup', 'name': 'packed light brown sugar'},\n",
       " {'measure': '1/2 cup', 'name': 'white sugar'},\n",
       " {'measure': '2 ', 'name': 'eggs'},\n",
       " {'measure': '2 teaspoons', 'name': 'vanilla extract'},\n",
       " {'measure': '1 1/4 cups', 'name': 'all-purpose flour'},\n",
       " {'measure': '1/2 teaspoon', 'name': 'baking soda'},\n",
       " {'measure': '1 teaspoon', 'name': 'salt'},\n",
       " {'measure': '3 cups', 'name': 'quick-cooking oats'},\n",
       " {'measure': '1 cup', 'name': 'chopped walnuts'},\n",
       " {'measure': '1 cup', 'name': 'semisweet chocolate chips'}]"
      ]
     },
     "execution_count": 29,
     "metadata": {},
     "output_type": "execute_result"
    }
   ],
   "source": [
    "p = [parse(ingrd) for ingrd in ingredients]\n",
    "p"
   ]
  },
  {
   "cell_type": "markdown",
   "metadata": {},
   "source": [
    "#### Attempt to parse with regular expressions ####"
   ]
  },
  {
   "cell_type": "code",
   "execution_count": 30,
   "metadata": {},
   "outputs": [
    {
     "data": {
      "text/plain": [
       "'1 1/2'"
      ]
     },
     "execution_count": 30,
     "metadata": {},
     "output_type": "execute_result"
    }
   ],
   "source": [
    "phrase = '1 1/2 teaspoon butter'\n",
    "expr = '((\\d{0,2}|(\\d*(/|.)\\d*))? (\\d/\\d)?)?'\n",
    "match = re.search(expr,phrase)\n",
    "match.group().strip()"
   ]
  },
  {
   "cell_type": "code",
   "execution_count": 31,
   "metadata": {},
   "outputs": [
    {
     "data": {
      "text/plain": [
       "('1 cup', '1', 'cup')"
      ]
     },
     "execution_count": 31,
     "metadata": {},
     "output_type": "execute_result"
    }
   ],
   "source": [
    "match = re.search(expr,p[0]['measure'])\n",
    "(match.string, match.group().strip(), match.string[match.lastindex:].strip())"
   ]
  },
  {
   "cell_type": "code",
   "execution_count": 32,
   "metadata": {
    "collapsed": true
   },
   "outputs": [],
   "source": [
    "match = re.search(expr,p[3]['measure'])\n",
    "if match.string[match.lastindex:].strip()=='':\n",
    "    _unit = None"
   ]
  },
  {
   "cell_type": "code",
   "execution_count": 33,
   "metadata": {
    "collapsed": true
   },
   "outputs": [],
   "source": [
    "class Ingredient(object):\n",
    "    \n",
    "    def __init__(self, name, amount, units, description):\n",
    "        self._name = name # e.g. butter, sugar, etc. (this needs a better variable name than \"name\")        \n",
    "        self._amount = amount # How many of units?\n",
    "        self._units = units   # Measurement units (e.g. cup, tablespoon, pound, etc.)\n",
    "        self._description = description # e.g. softened, blackened, etc.\n",
    "                \n",
    "    @property\n",
    "    def name(self): # e.g. butter, chocolate chips, ground beef\n",
    "        return self._name\n",
    "\n",
    "    @property\n",
    "    def units(self): # e.g. cups, teaspoons, oz\n",
    "        return self._units\n",
    "    \n",
    "    @property\n",
    "    def amount(self): # e.g. 1, 2, 1 1/2, 3/4\n",
    "        return self._amount    \n",
    "    \n",
    "    @property\n",
    "    def description(self): # e.g. softened, lightly-packed\n",
    "        return self._description\n",
    "    \n",
    "    def __repr__(self):        \n",
    "        return repr((self.amount, self.units, self.name))"
   ]
  },
  {
   "cell_type": "code",
   "execution_count": 27,
   "metadata": {
    "collapsed": true
   },
   "outputs": [],
   "source": [
    "def parseIngredients(ingrds):\n",
    "    \n",
    "    # There must be a function to do the start:stop indexing I'm kludging here\n",
    "    expr = '(\\d{0,2}|(\\d*(/|.)\\d*))? (\\d/\\d)?'\n",
    "    amounts = [i[re.match(expr,i).start():re.match(expr,i).end()].strip() for i in ingrds]    \n",
    "    units = [i[re.match(expr,i).end():].strip().split()[0] for i in ingrds]\n",
    "    kinds = [i[re.match(expr,i).end():].strip().split()[1:] for i in ingrds]\n",
    "                \n",
    "    # Remove adjectives from kinds    \n",
    "    colors = ['white','brown']\n",
    "    POS = [nltk.pos_tag(kind) for kind in kinds]\n",
    "    mask_not_vbd = [[('VBD'!=word[1])and('VBN'!=word[1]) for word in sent] for sent in POS]       \n",
    "    kinds = [list(compress(pos,mask)) for pos,mask in zip(POS,mask_not_vbd)]\n",
    "    kinds = [' '.join([k[0] for k in tup]) for tup in kinds]\n",
    "    \n",
    "    # Check for eggs (kludge, how do you deal with this??)\n",
    "    for n in xrange(len(units)):\n",
    "        if units[n]=='egg' or units[n]=='eggs':\n",
    "            kinds[n] = units[n]\n",
    "            units[n] = units[n]\n",
    "            \n",
    "    parsed_ingredients = []\n",
    "    for i in xrange(len(amounts)):\n",
    "        parsed_ingredients.append(Ingredient(kinds[i],amounts[i],units[i]))\n",
    "        \n",
    "    return parsed_ingredients"
   ]
  }
 ],
 "metadata": {
  "kernelspec": {
   "display_name": "Python 2",
   "language": "python",
   "name": "python2"
  },
  "language_info": {
   "codemirror_mode": {
    "name": "ipython",
    "version": 2
   },
   "file_extension": ".py",
   "mimetype": "text/x-python",
   "name": "python",
   "nbconvert_exporter": "python",
   "pygments_lexer": "ipython2",
   "version": "2.7.13"
  }
 },
 "nbformat": 4,
 "nbformat_minor": 2
}
