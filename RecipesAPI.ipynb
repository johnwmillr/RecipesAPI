{
 "cells": [
  {
   "cell_type": "markdown",
   "metadata": {},
   "source": [
    "## Food2Fork API ##\n",
    "www.food2fork.com/about/api"
   ]
  },
  {
   "cell_type": "code",
   "execution_count": 1,
   "metadata": {
    "collapsed": true
   },
   "outputs": [],
   "source": [
    "import requests\n",
    "import urllib2\n",
    "import json\n",
    "from bs4 import BeautifulSoup"
   ]
  },
  {
   "cell_type": "markdown",
   "metadata": {},
   "source": [
    "#### Load API credentials ####"
   ]
  },
  {
   "cell_type": "code",
   "execution_count": 2,
   "metadata": {
    "collapsed": true
   },
   "outputs": [],
   "source": [
    "def loadCredentials():\n",
    "    filename = 'secrets.txt'\n",
    "    for line in open(filename).readlines():\n",
    "        if \"API\" in line:    \n",
    "            api_key = line.split(\": \")[1].translate(None,'\\n')\n",
    "        \n",
    "    return api_key"
   ]
  },
  {
   "cell_type": "code",
   "execution_count": 3,
   "metadata": {
    "collapsed": true
   },
   "outputs": [],
   "source": [
    "API_KEY = loadCredentials()"
   ]
  },
  {
   "cell_type": "code",
   "execution_count": 4,
   "metadata": {
    "collapsed": true
   },
   "outputs": [],
   "source": [
    "URL_API = 'http://food2fork.com/api'\n",
    "URL_SEARCH = URL_API + '/search/?'\n",
    "URL_GET = URL_API + '/get/?'\n",
    "\n",
    "# Base URLs\n",
    "search_url = \"http://food2fork.com/api/search\"\n",
    "recipe_url = \"http://food2fork.com/api/get\""
   ]
  },
  {
   "cell_type": "markdown",
   "metadata": {},
   "source": [
    "#### Make a GET request to the API ####"
   ]
  },
  {
   "cell_type": "code",
   "execution_count": 6,
   "metadata": {},
   "outputs": [
    {
     "name": "stdout",
     "output_type": "stream",
     "text": [
      "\n",
      "Page: 1,  \n",
      "Page 2 is the last page.\n"
     ]
    }
   ],
   "source": [
    "# api_request = search_url + \"\"\n",
    "page = 1\n",
    "while True:    \n",
    "    api_request = \"http://food2fork.com/api/search?key=\"+API_KEY+\"&q=shredded%20chicken&page=\"+str(page)\n",
    "\n",
    "    # I don't understand headers well enough yet, but I got a 403 error without this header\n",
    "    # https://en.wikipedia.org/wiki/User_agent\n",
    "    hdr = {'User-Agent': 'Mozilla/5.0 (X11; Linux x86_64)'}\n",
    "\n",
    "    request = urllib2.Request(api_request, headers=hdr)\n",
    "    response = urllib2.urlopen(request)\n",
    "    raw = response.read()\n",
    "    json_obj = json.loads(raw)    \n",
    "    \n",
    "    if json_obj['count']!=30 or page == 2:\n",
    "        print(\"\\nPage {p} is the last page.\".format(p=page))\n",
    "        break\n",
    "    elif page==1:\n",
    "        print(\"\\nPage: {p}, \".format(p=page)),\n",
    "    else:\n",
    "        print(\"{p}, \".format(p=page)),\n",
    "        \n",
    "    page += 1\n",
    "    \n",
    "#     json_obj.viewkeys()\n"
   ]
  },
  {
   "cell_type": "code",
   "execution_count": 10,
   "metadata": {},
   "outputs": [
    {
     "data": {
      "text/plain": [
       "[(u'Simple, Classic Chicken Potpie',\n",
       "  u'http://allrecipes.com/Recipe/Simple-Classic-Chicken-Potpie/Detail.aspx'),\n",
       " (u'Sour Cream Chicken Enchiladas',\n",
       "  u'http://allrecipes.com/Recipe/Sour-Cream-Chicken-Enchiladas/Detail.aspx'),\n",
       " (u'Honey-Lime Enchiladas',\n",
       "  u'http://allrecipes.com/Recipe/Honey-Lime-Enchiladas/Detail.aspx')]"
      ]
     },
     "execution_count": 10,
     "metadata": {},
     "output_type": "execute_result"
    }
   ],
   "source": [
    "[(recipe['title'],recipe['source_url']) for recipe in json_obj['recipes'] if \"allrecipes\" in recipe['source_url']]"
   ]
  },
  {
   "cell_type": "markdown",
   "metadata": {},
   "source": [
    "### Scrape ingredients from an AllRecipes.com page ###"
   ]
  },
  {
   "cell_type": "code",
   "execution_count": 53,
   "metadata": {
    "collapsed": true
   },
   "outputs": [],
   "source": [
    "def getIngredients(URL):\n",
    "    page = requests.get(URL)\n",
    "    html = BeautifulSoup(page.text, \"html.parser\")\n",
    "    \n",
    "    ingredients = [result.get_text().encode('ascii','ignore').lower().strip(\"\\n\") for result in html.find_all(\"li\", class_=\"checkList__line\")]\n",
    "    ingredients = [ingredient.strip('advertisement').strip('\\n') for ingredient in ingredients]\n",
    "    return ingredients"
   ]
  },
  {
   "cell_type": "code",
   "execution_count": 58,
   "metadata": {},
   "outputs": [
    {
     "data": {
      "text/plain": [
       "[(u'Simple, Classic Chicken Potpie',\n",
       "  ['6 cups roasted, shredded rotisserie chicken',\n",
       "   '1 (15 ounce) package refrigerated pie crusts',\n",
       "   '2 tablespoons vegetable oil',\n",
       "   '2 medium onions, chopped',\n",
       "   '3 small stalks celery, cut crosswise 1/4-inch thick',\n",
       "   '2 cups chicken broth',\n",
       "   '1 (12 fluid ounce) can evaporated milk',\n",
       "   '1/3 cup butter',\n",
       "   '9 tablespoons all-purpose flour',\n",
       "   '3/4 teaspoon dried thyme',\n",
       "   '1/4 cup dry sherry or white wine',\n",
       "   'lt and ground pepper',\n",
       "   '1/4 cup chopped fresh parsley',\n",
       "   '1 (16 ounce) package frozen peas and carrots, not thawed',\n",
       "   ' all ingredients to l',\n",
       "   '',\n",
       "   ' all ingredients to l']),\n",
       " (u'Sour Cream Chicken Enchiladas',\n",
       "  ['1 bunch cilantro',\n",
       "   '1 cup sour cream',\n",
       "   '2 (7 ounce) cans jalapeno salsa',\n",
       "   '2 (7 ounce) cans prepared green chile salsa',\n",
       "   '2 skinless, boneless chicken breast halves, cooked and shredded',\n",
       "   '1 onion',\n",
       "   '12 (6 inch) flour tortillas',\n",
       "   '2 cups shredded cheddar cheese',\n",
       "   ' all ingredients to l',\n",
       "   '',\n",
       "   ' all ingredients to l']),\n",
       " (u'Honey-Lime Enchiladas',\n",
       "  ['1/3 cup honey',\n",
       "   '1 tablespoon chili powder',\n",
       "   '1/3 cup lime juice',\n",
       "   '2 cloves garlic, minced',\n",
       "   '1 pound shredded, cooked chicken',\n",
       "   '2 cups green enchilada sauce, divided',\n",
       "   '6 cups shredded monterey jack cheese, divided',\n",
       "   '10 (8 inch) flour tortillas',\n",
       "   '1 cup fat free half-and-half',\n",
       "   ' all ingredients to l',\n",
       "   '',\n",
       "   ' all ingredients to l'])]"
      ]
     },
     "execution_count": 58,
     "metadata": {},
     "output_type": "execute_result"
    }
   ],
   "source": [
    "[(recipe['title'], getIngredients(recipe['source_url'])) for recipe in json_obj['recipes'] if \"allrecipes\" in recipe['source_url']]"
   ]
  }
 ],
 "metadata": {
  "kernelspec": {
   "display_name": "Python 2",
   "language": "python",
   "name": "python2"
  },
  "language_info": {
   "codemirror_mode": {
    "name": "ipython",
    "version": 2
   },
   "file_extension": ".py",
   "mimetype": "text/x-python",
   "name": "python",
   "nbconvert_exporter": "python",
   "pygments_lexer": "ipython2",
   "version": "2.7.13"
  }
 },
 "nbformat": 4,
 "nbformat_minor": 2
}
