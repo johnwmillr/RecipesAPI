{
 "cells": [
  {
   "cell_type": "markdown",
   "metadata": {},
   "source": [
    "## Food2Fork API ##\n",
    "www.food2fork.com/about/api"
   ]
  },
  {
   "cell_type": "code",
   "execution_count": 2,
   "metadata": {
    "collapsed": true
   },
   "outputs": [],
   "source": [
    "# API access\n",
    "import requests\n",
    "import urllib2\n",
    "from urllib import urlencode\n",
    "import json\n",
    "from bs4 import BeautifulSoup\n",
    "\n",
    "# Plotting\n",
    "from matplotlib import pyplot as plt\n",
    "\n",
    "# Parsing ingredient lists\n",
    "import re\n",
    "import nltk\n",
    "from fractions import Fraction\n",
    "from ingredient_parser import parse # https://pypi.python.org/pypi/ingredient-parser/1.0.1"
   ]
  },
  {
   "cell_type": "code",
   "execution_count": 3,
   "metadata": {
    "collapsed": true
   },
   "outputs": [],
   "source": [
    "%matplotlib inline"
   ]
  },
  {
   "cell_type": "markdown",
   "metadata": {},
   "source": [
    "### API credentials ###"
   ]
  },
  {
   "cell_type": "code",
   "execution_count": 4,
   "metadata": {
    "collapsed": true
   },
   "outputs": [],
   "source": [
    "def loadCredentials():\n",
    "    filename = 'secrets.txt'\n",
    "    for line in open(filename).readlines():\n",
    "        if \"API\" in line:    \n",
    "            api_key = line.split(\": \")[1].translate(None,'\\n')\n",
    "        \n",
    "    return api_key"
   ]
  },
  {
   "cell_type": "code",
   "execution_count": 5,
   "metadata": {
    "collapsed": true
   },
   "outputs": [],
   "source": [
    "# Load the API Key\n",
    "_API_KEY = loadCredentials()\n",
    "\n",
    "# Food2Fork links\n",
    "_URL_API = \"http://food2fork.com/api/\"\n",
    "_URL_SEARCH = _URL_API + 'search?'\n",
    "_URL_GET    = _URL_API + 'get?'\n",
    "_HEADER = {'User-Agent': 'Mozilla/5.0 (X11; Linux x86_64)'}"
   ]
  },
  {
   "cell_type": "markdown",
   "metadata": {},
   "source": [
    "### Search the Food2Fork API ###"
   ]
  },
  {
   "cell_type": "code",
   "execution_count": 6,
   "metadata": {
    "collapsed": true
   },
   "outputs": [],
   "source": [
    "def search(query, page=1, count=1):   \n",
    "    \"\"\"Return a list of recipes from the Food2Fork.com database\"\"\"\n",
    "    \n",
    "    assert(0 < count <= 30), 'max 30 results per call, min 1' #https://github.com/davebshow/food2forkclient/\n",
    "        \n",
    "    # Format the request URL\n",
    "    query_params = {\"key\":_API_KEY,\"q\":query, \"page\":page, \"count\":count}            \n",
    "    api_request = _URL_SEARCH + urlencode(query_params)    \n",
    "\n",
    "    # Make the request\n",
    "    request  = urllib2.Request(api_request, headers=_HEADER)\n",
    "    response = urllib2.urlopen(request)\n",
    "    raw = response.read()\n",
    "    json_obj = json.loads(raw)['recipes']\n",
    "    \n",
    "    if len(json_obj)==1:    \n",
    "        return json_obj[0]\n",
    "    else:\n",
    "        return json_obj"
   ]
  },
  {
   "cell_type": "code",
   "execution_count": 7,
   "metadata": {},
   "outputs": [
    {
     "name": "stdout",
     "output_type": "stream",
     "text": [
      "http://static.food2fork.com/508714d505.jpg\n"
     ]
    },
    {
     "data": {
      "text/plain": [
       "{u'f2f_url': u'http://food2fork.com/view/6868',\n",
       " u'image_url': u'http://static.food2fork.com/508714d505.jpg',\n",
       " u'publisher': u'All Recipes',\n",
       " u'publisher_url': u'http://allrecipes.com',\n",
       " u'recipe_id': u'6868',\n",
       " u'social_rank': 99.99999999999996,\n",
       " u'source_url': u'http://allrecipes.com/Recipe/Chewy-Chocolate-Chip-Oatmeal-Cookies/Detail.aspx',\n",
       " u'title': u'Chewy Chocolate Chip Oatmeal Cookies'}"
      ]
     },
     "execution_count": 7,
     "metadata": {},
     "output_type": "execute_result"
    }
   ],
   "source": [
    "# Search for cookie recipes\n",
    "recipes = search('Chocolate chip cookies',count=5)\n",
    "print(recipes[0]['image_url'])\n",
    "recipes[0]"
   ]
  },
  {
   "cell_type": "markdown",
   "metadata": {},
   "source": [
    "### Request a specific recipe from the API ###"
   ]
  },
  {
   "cell_type": "code",
   "execution_count": 8,
   "metadata": {
    "collapsed": true
   },
   "outputs": [],
   "source": [
    "def getRecipe(recipe_id):\n",
    "    \"\"\"Return the recipe specified by *recipe_id* from Food2Fork's database\"\"\"\n",
    "\n",
    "    # Format the request URL\n",
    "    api_request = _URL_GET + urlencode({\"key\":_API_KEY, \"rId\":recipe_id})\n",
    "    \n",
    "    # Make the request\n",
    "    request  = urllib2.Request(api_request, headers=_HEADER)\n",
    "    response = urllib2.urlopen(request)\n",
    "    raw = response.read()\n",
    "    json_obj = json.loads(raw)  \n",
    "    \n",
    "    return json_obj['recipe']"
   ]
  },
  {
   "cell_type": "markdown",
   "metadata": {},
   "source": [
    "### Scrape ingredients from a Food2Fork.com page ###"
   ]
  },
  {
   "cell_type": "code",
   "execution_count": 9,
   "metadata": {
    "collapsed": true
   },
   "outputs": [],
   "source": [
    "def getIngredients(json_obj):\n",
    "    r = getRecipe(json_obj['recipe_id'])\n",
    "    return [i.strip('\\n').encode('ascii', 'ignore').lower() for i in r['ingredients']]"
   ]
  },
  {
   "cell_type": "markdown",
   "metadata": {},
   "source": [
    "## Parse ingredient amounts using reg exp and NLTK ##"
   ]
  },
  {
   "cell_type": "markdown",
   "metadata": {},
   "source": [
    "#### Attempt to parse with regular expressions ####"
   ]
  },
  {
   "cell_type": "code",
   "execution_count": 10,
   "metadata": {
    "collapsed": true
   },
   "outputs": [],
   "source": [
    "class Ingredient(object):\n",
    "    \n",
    "    def __init__(self, name, amount='', units='', description=''):\n",
    "        self._name = name # e.g. butter, sugar, etc. (this needs a better variable name than \"name\")        \n",
    "        self._amount = amount # How many of units?\n",
    "        self._units = units   # Measurement units (e.g. cup, tablespoon, pound, etc.)\n",
    "        self._description = description # e.g. softened, blackened, etc.\n",
    "                \n",
    "    @property\n",
    "    def name(self): # e.g. butter, chocolate chips, ground beef\n",
    "        return self._name\n",
    "\n",
    "    @property\n",
    "    def units(self): # e.g. cups, teaspoons, oz\n",
    "        return self._units\n",
    "    \n",
    "    @property\n",
    "    def amount(self): # e.g. 1, 2, 1 1/2, 3/4\n",
    "        return self._amount    \n",
    "    \n",
    "    @property\n",
    "    def description(self): # e.g. softened, lightly-packed\n",
    "        return self._description\n",
    "    \n",
    "    def __repr__(self):        \n",
    "        return repr((self.amount, self.units, self.name))"
   ]
  },
  {
   "cell_type": "code",
   "execution_count": 11,
   "metadata": {
    "collapsed": true
   },
   "outputs": [],
   "source": [
    "# num_words = ['zero','one','two','three','four','five','six','seven','eight','nine',\n",
    "#            'ten','eleven','twelve','thirteen','fourteen','fifteen','sixteen',\n",
    "#            'seventeen','eighteen','nineteen','twenty']\n",
    "# NUMBERS = dict(zip(num_words,range(0,len(num_words))))"
   ]
  },
  {
   "cell_type": "code",
   "execution_count": 12,
   "metadata": {
    "collapsed": true
   },
   "outputs": [],
   "source": [
    "def parseIngredients(ingredients):\n",
    "    p = [parse(ingrd) for ingrd in ingredients]\n",
    "    num_ingredients = len(p)\n",
    "\n",
    "    # Use RegEx to get ingredient amount from parsed list\n",
    "    expr = r'\\d*\\s*\\d*((/|.)\\d+)?'\n",
    "    matches = [re.search(expr,ingrd['measure']) for ingrd in p]\n",
    "    amounts = [match.group().strip() for match in matches]\n",
    "\n",
    "    # Convert amounts to float\n",
    "    amounts = [float(sum(Fraction(s) for s in a.split())) for a in amounts]\n",
    "\n",
    "    # Get measurement unit from the RegEx matches\n",
    "    units = [i['measure'][m.end():].strip() for i,m in zip(p,matches)]\n",
    "\n",
    "    # Get parts of speech using NLTK\n",
    "    pos = [nltk.pos_tag(nltk.word_tokenize(ingrd['name'])) for ingrd in p]\n",
    "\n",
    "    # Ingredient names\n",
    "    tags = ['NN','NNS','VBG'] #JJ also?\n",
    "    names = [' '.join([part[0] for part in parts if part[1] in tags]) for parts in pos]\n",
    "\n",
    "    # Ingredient descriptions\n",
    "    tags = ['JJ','VBD']\n",
    "    descriptions = [' '.join([part[0] for part in parts if part[1] in tags]) for parts in pos]\n",
    "                    \n",
    "    return [Ingredient(n,a,u,d) for a,u,n,d in zip(amounts,units,names,descriptions)]"
   ]
  },
  {
   "cell_type": "code",
   "execution_count": 13,
   "metadata": {
    "collapsed": true
   },
   "outputs": [],
   "source": [
    "search_result = search(\"Chocolate chip cookies\",count=5)"
   ]
  },
  {
   "cell_type": "code",
   "execution_count": 14,
   "metadata": {},
   "outputs": [
    {
     "data": {
      "text/plain": [
       "['1 cup butter, softened',\n",
       " '1 cup packed light brown sugar',\n",
       " '1/2 cup white sugar',\n",
       " '2 eggs',\n",
       " '2 teaspoons vanilla extract',\n",
       " '1 1/4 cups all-purpose flour',\n",
       " '1/2 teaspoon baking soda',\n",
       " '1 teaspoon salt',\n",
       " '3 cups quick-cooking oats',\n",
       " '1 cup chopped walnuts',\n",
       " '1 cup semisweet chocolate chips']"
      ]
     },
     "execution_count": 14,
     "metadata": {},
     "output_type": "execute_result"
    }
   ],
   "source": [
    "ingredients = getIngredients(getRecipe(search_result[0]['recipe_id']))\n",
    "ingredients"
   ]
  },
  {
   "cell_type": "code",
   "execution_count": 15,
   "metadata": {},
   "outputs": [
    {
     "data": {
      "text/plain": [
       "[(1.0, 'cup', 'butter'),\n",
       " (1.0, 'cup', 'brown sugar'),\n",
       " (0.5, 'cup', 'sugar'),\n",
       " (2.0, '', 'eggs'),\n",
       " (2.0, 'teaspoon', 'vanilla extract'),\n",
       " (1.25, 'cup', 'flour'),\n",
       " (0.5, 'teaspoon', 'baking soda'),\n",
       " (1.0, 'teaspoon', 'salt'),\n",
       " (3.0, 'cup', 'oats'),\n",
       " (1.0, 'cup', 'walnuts'),\n",
       " (1.0, 'cup', 'semisweet chocolate chips')]"
      ]
     },
     "execution_count": 15,
     "metadata": {},
     "output_type": "execute_result"
    }
   ],
   "source": [
    "parsed = parseIngredients(ingredients)\n",
    "parsed"
   ]
  },
  {
   "cell_type": "code",
   "execution_count": 16,
   "metadata": {},
   "outputs": [
    {
     "data": {
      "text/plain": [
       "{'baking soda': 0.5,\n",
       " 'brown sugar': 1.0,\n",
       " 'butter': 1.0,\n",
       " 'eggs': 2.0,\n",
       " 'flour': 1.25,\n",
       " 'oats': 3.0,\n",
       " 'salt': 1.0,\n",
       " 'semisweet chocolate chips': 1.0,\n",
       " 'sugar': 0.5,\n",
       " 'vanilla extract': 2.0,\n",
       " 'walnuts': 1.0}"
      ]
     },
     "execution_count": 16,
     "metadata": {},
     "output_type": "execute_result"
    }
   ],
   "source": [
    "recipe = dict(zip([p.name for p in parsed],[p.amount for p in parsed]))\n",
    "recipe"
   ]
  },
  {
   "cell_type": "code",
   "execution_count": 17,
   "metadata": {},
   "outputs": [
    {
     "data": {
      "image/png": "[encoded data removed]",
      "text/plain": [
       "<matplotlib.figure.Figure at 0x1177155d0>"
      ]
     },
     "metadata": {},
     "output_type": "display_data"
    }
   ],
   "source": [
    "plt.plot(recipe['butter'],recipe['sugar'],'ro')\n",
    "plt.show()"
   ]
  },
  {
   "cell_type": "code",
   "execution_count": 18,
   "metadata": {
    "collapsed": true
   },
   "outputs": [],
   "source": [
    "search_result = search(\"soup\",count=5)"
   ]
  },
  {
   "cell_type": "code",
   "execution_count": 19,
   "metadata": {},
   "outputs": [
    {
     "data": {
      "text/plain": [
       "['1 pound shredded, cooked chicken',\n",
       " '1 (15 ounce) can whole peeled tomatoes, mashed',\n",
       " '1 (10 ounce) can enchilada sauce',\n",
       " '1 medium onion, chopped',\n",
       " '1 (4 ounce) can chopped green chile peppers',\n",
       " '2 cloves garlic, minced',\n",
       " '2 cups water',\n",
       " '1 (14.5 ounce) can chicken broth',\n",
       " '1 teaspoon cumin',\n",
       " '1 teaspoon chili powder',\n",
       " '1 teaspoon salt',\n",
       " '1/4 teaspoon black pepper',\n",
       " '1 bay leaf',\n",
       " '1 (10 ounce) package frozen corn',\n",
       " '1 tablespoon chopped cilantro',\n",
       " '7 corn tortillas',\n",
       " 'vegetable oil']"
      ]
     },
     "execution_count": 19,
     "metadata": {},
     "output_type": "execute_result"
    }
   ],
   "source": [
    "ingredients = getIngredients(getRecipe(search_result[0]['recipe_id']))\n",
    "ingredients"
   ]
  }
 ],
 "metadata": {
  "kernelspec": {
   "display_name": "Python 2",
   "language": "python",
   "name": "python2"
  },
  "language_info": {
   "codemirror_mode": {
    "name": "ipython",
    "version": 2
   },
   "file_extension": ".py",
   "mimetype": "text/x-python",
   "name": "python",
   "nbconvert_exporter": "python",
   "pygments_lexer": "ipython2",
   "version": "2.7.13"
  }
 },
 "nbformat": 4,
 "nbformat_minor": 2
}
