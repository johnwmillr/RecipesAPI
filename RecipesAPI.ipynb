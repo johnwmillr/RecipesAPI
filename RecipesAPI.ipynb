{
 "cells": [
  {
   "cell_type": "markdown",
   "metadata": {},
   "source": [
    "## Food2Fork API ##\n",
    "www.food2fork.com/about/api"
   ]
  },
  {
   "cell_type": "code",
   "execution_count": 57,
   "metadata": {
    "collapsed": true
   },
   "outputs": [],
   "source": [
    "# API access\n",
    "import requests\n",
    "import urllib2\n",
    "from urllib import urlencode\n",
    "import json\n",
    "from bs4 import BeautifulSoup\n",
    "\n",
    "# Plotting\n",
    "from matplotlib import pyplot as plt\n",
    "\n",
    "# Parsing ingredient lists\n",
    "import nltk\n",
    "import itertools\n",
    "from itertools import compress"
   ]
  },
  {
   "cell_type": "code",
   "execution_count": 58,
   "metadata": {
    "collapsed": true
   },
   "outputs": [],
   "source": [
    "%matplotlib inline"
   ]
  },
  {
   "cell_type": "markdown",
   "metadata": {},
   "source": [
    "### API credentials ###"
   ]
  },
  {
   "cell_type": "code",
   "execution_count": 59,
   "metadata": {
    "collapsed": true
   },
   "outputs": [],
   "source": [
    "def loadCredentials():\n",
    "    filename = 'secrets.txt'\n",
    "    for line in open(filename).readlines():\n",
    "        if \"API\" in line:    \n",
    "            api_key = line.split(\": \")[1].translate(None,'\\n')\n",
    "        \n",
    "    return api_key"
   ]
  },
  {
   "cell_type": "code",
   "execution_count": 60,
   "metadata": {
    "collapsed": true
   },
   "outputs": [],
   "source": [
    "# Load the API Key\n",
    "_API_KEY = loadCredentials()\n",
    "\n",
    "# Food2Fork links\n",
    "_URL_API = \"http://food2fork.com/api/\"\n",
    "_URL_SEARCH = _URL_API + 'search?'\n",
    "_URL_GET    = _URL_API + 'get?'\n",
    "_HEADER = {'User-Agent': 'Mozilla/5.0 (X11; Linux x86_64)'}"
   ]
  },
  {
   "cell_type": "markdown",
   "metadata": {},
   "source": [
    "### Search the Food2Fork API ###"
   ]
  },
  {
   "cell_type": "code",
   "execution_count": 61,
   "metadata": {
    "collapsed": true
   },
   "outputs": [],
   "source": [
    "def search(query, page=1, count=1):   \n",
    "    \"\"\"Return a list of recipes from the Food2Fork.com database\"\"\"\n",
    "    \n",
    "    assert(0 < count <= 30), 'max 30 results per call, min 1' #https://github.com/davebshow/food2forkclient/\n",
    "        \n",
    "    # Format the request URL\n",
    "    query_params = {\"key\":_API_KEY,\"q\":query, \"page\":page, \"count\":count}            \n",
    "    api_request = _URL_SEARCH + urlencode(query_params)    \n",
    "\n",
    "    # Make the request\n",
    "    request  = urllib2.Request(api_request, headers=_HEADER)\n",
    "    response = urllib2.urlopen(request)\n",
    "    raw = response.read().decode('utf-8')\n",
    "    json_obj = json.loads(raw)  \n",
    "    \n",
    "    return json_obj['recipes']"
   ]
  },
  {
   "cell_type": "code",
   "execution_count": null,
   "metadata": {
    "collapsed": true
   },
   "outputs": [],
   "source": [
    "# Search for cookie recipes\n",
    "recipes = search('Chocolate chip cookies',count=5)\n",
    "print(recipes[0]['image_url'])\n",
    "recipes[0]"
   ]
  },
  {
   "cell_type": "markdown",
   "metadata": {},
   "source": [
    "### Request a specific recipe from the API ###"
   ]
  },
  {
   "cell_type": "code",
   "execution_count": 71,
   "metadata": {
    "collapsed": true
   },
   "outputs": [],
   "source": [
    "def getRecipe(recipe_id):\n",
    "    \"\"\"Return the recipe specified by *recipe_id* from Food2Fork's database\"\"\"\n",
    "\n",
    "    # Format the request URL\n",
    "    api_request = _URL_GET + urlencode({\"key\":_API_KEY, \"rId\":recipe_id})\n",
    "    \n",
    "    # Make the request\n",
    "    request  = urllib2.Request(api_request, headers=_HEADER)\n",
    "    response = urllib2.urlopen(request)\n",
    "    raw = response.read()\n",
    "    json_obj = json.loads(raw)  \n",
    "    \n",
    "    return json_obj['recipe']"
   ]
  },
  {
   "cell_type": "code",
   "execution_count": 72,
   "metadata": {},
   "outputs": [
    {
     "data": {
      "text/plain": [
       "{u'f2f_url': u'http://food2fork.com/view/35130',\n",
       " u'image_url': u'http://static.food2fork.com/BananasFosterPancakes15000eeed5d6.jpg',\n",
       " u'ingredients': [u'1 cup all purpose flour',\n",
       "  u'1 teaspoon baking powder',\n",
       "  u'1/4 teaspoon salt',\n",
       "  u'1/4 teaspoon cinnamon',\n",
       "  u'1 cup milk',\n",
       "  u'1 egg',\n",
       "  u'2 tablespoons brown sugar',\n",
       "  u'2 tablespoons unsalted butter (melted)',\n",
       "  u'2 overripe bananas (peeled and mashed)',\n",
       "  u'2 tablespoons butter',\n",
       "  u'2 tablespoons brown sugar',\n",
       "  u'2 dashes of cinnamon',\n",
       "  u'2 ripe bananas (peeled and sliced)',\n",
       "  u'2 ounces dark rum\\n'],\n",
       " u'publisher': u'Closet Cooking',\n",
       " u'publisher_url': u'http://closetcooking.com',\n",
       " u'recipe_id': u'35130',\n",
       " u'social_rank': 38.259222092243164,\n",
       " u'source_url': u'http://www.closetcooking.com/2010/05/bananas-foster-pancakes.html',\n",
       " u'title': u'Bananas Foster Pancakes'}"
      ]
     },
     "execution_count": 72,
     "metadata": {},
     "output_type": "execute_result"
    }
   ],
   "source": [
    "r = getRecipe('35130')\n",
    "r"
   ]
  },
  {
   "cell_type": "markdown",
   "metadata": {},
   "source": [
    "### Scrape ingredients from a Food2Fork.com page ###"
   ]
  },
  {
   "cell_type": "code",
   "execution_count": 9,
   "metadata": {
    "collapsed": true
   },
   "outputs": [],
   "source": [
    "def getIngredients(json_obj):\n",
    "    r = getRecipe(json_obj['recipe_id'])\n",
    "    return [i.strip('\\n') for i in r['ingredients']]"
   ]
  },
  {
   "cell_type": "code",
   "execution_count": 10,
   "metadata": {},
   "outputs": [
    {
     "data": {
      "text/plain": [
       "[u'4 small chicken breasts, pounded thin',\n",
       " u'salt and pepper to taste',\n",
       " u'4 jalapenos, diced',\n",
       " u'4 ounces cream cheese, room temperature',\n",
       " u'1 cup cheddar cheese, shredded',\n",
       " u'8 slices bacon']"
      ]
     },
     "execution_count": 10,
     "metadata": {},
     "output_type": "execute_result"
    }
   ],
   "source": [
    "ingredients = getIngredients(recipes[0])\n",
    "ingredients"
   ]
  },
  {
   "cell_type": "code",
   "execution_count": 25,
   "metadata": {
    "collapsed": true
   },
   "outputs": [],
   "source": [
    "recipe = search('Chocolate cake')"
   ]
  },
  {
   "cell_type": "code",
   "execution_count": 27,
   "metadata": {},
   "outputs": [
    {
     "data": {
      "text/plain": [
       "{u'f2f_url': u'http://food2fork.com/view/9089e3',\n",
       " u'image_url': u'http://static.food2fork.com/604133_mediumd392.jpg',\n",
       " u'publisher': u'BBC Good Food',\n",
       " u'publisher_url': u'http://www.bbcgoodfood.com',\n",
       " u'recipe_id': u'9089e3',\n",
       " u'social_rank': 100.0,\n",
       " u'source_url': u'http://www.bbcgoodfood.com/recipes/873655/cookie-monster-cupcakes',\n",
       " u'title': u'Cookie Monster cupcakes'}"
      ]
     },
     "execution_count": 27,
     "metadata": {},
     "output_type": "execute_result"
    }
   ],
   "source": [
    "recipe[0]"
   ]
  },
  {
   "cell_type": "markdown",
   "metadata": {},
   "source": [
    "## Use NLTK to parse amounts out from ingredients ##"
   ]
  },
  {
   "cell_type": "code",
   "execution_count": 11,
   "metadata": {
    "collapsed": true
   },
   "outputs": [],
   "source": [
    "from nltk import word_tokenize"
   ]
  },
  {
   "cell_type": "code",
   "execution_count": 12,
   "metadata": {},
   "outputs": [
    {
     "data": {
      "text/plain": [
       "[u'4 small chicken breasts, pounded thin',\n",
       " u'salt and pepper to taste',\n",
       " u'4 jalapenos, diced',\n",
       " u'4 ounces cream cheese, room temperature',\n",
       " u'1 cup cheddar cheese, shredded',\n",
       " u'8 slices bacon']"
      ]
     },
     "execution_count": 12,
     "metadata": {},
     "output_type": "execute_result"
    }
   ],
   "source": [
    "[ingredient for ingredient in ingredients]"
   ]
  },
  {
   "cell_type": "code",
   "execution_count": 13,
   "metadata": {
    "collapsed": true
   },
   "outputs": [],
   "source": [
    "def getNounMask(ingredients):\n",
    "    POS = [nltk.pos_tag(word_tokenize(ingredient)) for ingredient in ingredients]\n",
    "    mask_nouns = [['NN' in word[1] for word in sent] for sent in POS]\n",
    "    return mask_nouns"
   ]
  },
  {
   "cell_type": "code",
   "execution_count": 14,
   "metadata": {
    "collapsed": true
   },
   "outputs": [],
   "source": [
    "def parseIngredients(ingredients):\n",
    "    mask_nouns = getNounMask(ingredients)\n",
    "    for ingreeds, mask in zip(ingredients, mask_nouns):\n",
    "        print(' '.join(list(compress(word_tokenize(ingreeds),mask))))"
   ]
  },
  {
   "cell_type": "code",
   "execution_count": 15,
   "metadata": {
    "collapsed": true
   },
   "outputs": [],
   "source": [
    "recipes = search('cookies')"
   ]
  },
  {
   "cell_type": "code",
   "execution_count": 16,
   "metadata": {
    "scrolled": true
   },
   "outputs": [
    {
     "name": "stdout",
     "output_type": "stream",
     "text": [
      "Slutty Brownies\n",
      "[u'10 tbsp unsalted butter', u'1 1/4 cups white sugar', u'3/4 cup cocoa powder', u'1/2 tsp salt', u'2 tsp vanilla extract', u'2 large eggs', u'1/2 cup AP flour', u'For the Oreo layer:1 package of Oreo (regular stuffed or double stuffed)', u'For the Cookie Dough layer:1/2 cup unsalted butter (at room temp)', u'1/4 cup brown sugar', u'3/4 cup white sugar', u'1 egg', u'1 1/4 tsp vanilla extract', u'1 1/4 cups AP flour', u'1/2 tsp salt', u'1/2 tsp baking soda', u'1/2 tsp baking powder', u'1 cup semi-sweet chocolate chips', u'InstructionsFor the Brownie layer:']\n",
      "tbsp butter\n",
      "cups sugar\n",
      "cup cocoa powder\n",
      "tsp salt\n",
      "vanilla extract\n",
      "eggs\n",
      "cup AP flour\n",
      "Oreo package Oreo stuffed stuffed\n",
      "Cookie Dough cup butter room temp\n",
      "cup sugar\n",
      "sugar\n",
      "egg\n",
      "tsp vanilla extract\n",
      "cups AP flour\n",
      "tsp salt\n",
      "tsp baking soda\n",
      "tsp baking powder\n",
      "chocolate chips\n",
      "InstructionsFor Brownie layer\n"
     ]
    }
   ],
   "source": [
    "n=3\n",
    "print(recipes[n]['title'])\n",
    "ingredients = getIngredients(recipes[n])\n",
    "print(ingredients)\n",
    "parseIngredients(ingredients)"
   ]
  },
  {
   "cell_type": "markdown",
   "metadata": {},
   "source": [
    "This is tough! For example, I wanted to just keep nouns, but then you end up with two \"sugars\" because you throw out \"brown sugar\"!"
   ]
  },
  {
   "cell_type": "code",
   "execution_count": null,
   "metadata": {
    "collapsed": true
   },
   "outputs": [],
   "source": []
  },
  {
   "cell_type": "code",
   "execution_count": null,
   "metadata": {
    "collapsed": true
   },
   "outputs": [],
   "source": []
  }
 ],
 "metadata": {
  "kernelspec": {
   "display_name": "Python 2",
   "language": "python",
   "name": "python2"
  },
  "language_info": {
   "codemirror_mode": {
    "name": "ipython",
    "version": 2
   },
   "file_extension": ".py",
   "mimetype": "text/x-python",
   "name": "python",
   "nbconvert_exporter": "python",
   "pygments_lexer": "ipython2",
   "version": "2.7.13"
  }
 },
 "nbformat": 4,
 "nbformat_minor": 2
}
