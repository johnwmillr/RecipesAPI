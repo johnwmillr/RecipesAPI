{
 "cells": [
  {
   "cell_type": "markdown",
   "metadata": {},
   "source": [
    "## Food2Fork API ##\n",
    "www.food2fork.com/about/api"
   ]
  },
  {
   "cell_type": "code",
   "execution_count": 9,
   "metadata": {
    "collapsed": true
   },
   "outputs": [],
   "source": [
    "import re\n",
    "import requests\n",
    "import urllib2\n",
    "from urllib import quote\n",
    "import json\n",
    "from bs4 import BeautifulSoup\n",
    "from matplotlib import pyplot as plt\n",
    "import nltk"
   ]
  },
  {
   "cell_type": "code",
   "execution_count": 10,
   "metadata": {
    "collapsed": true
   },
   "outputs": [],
   "source": [
    "%matplotlib inline"
   ]
  },
  {
   "cell_type": "markdown",
   "metadata": {},
   "source": [
    "### API credentials ###"
   ]
  },
  {
   "cell_type": "code",
   "execution_count": 11,
   "metadata": {
    "collapsed": true
   },
   "outputs": [],
   "source": [
    "def loadCredentials():\n",
    "    filename = 'secrets.txt'\n",
    "    for line in open(filename).readlines():\n",
    "        if \"API\" in line:    \n",
    "            api_key = line.split(\": \")[1].translate(None,'\\n')\n",
    "        \n",
    "    return api_key"
   ]
  },
  {
   "cell_type": "code",
   "execution_count": 12,
   "metadata": {
    "collapsed": true
   },
   "outputs": [],
   "source": [
    "# Load the API Key\n",
    "API_KEY = loadCredentials()\n",
    "\n",
    "# Food2Fork links\n",
    "_URL_API = \"http://food2fork.com/api/\"\n",
    "_URL_KEY = \"key={0}\".format(API_KEY)\n",
    "_URL_SEARCH = _URL_API + 'search?' + _URL_KEY\n",
    "_URL_GET = _URL_API + 'get?' + _URL_KEY\n",
    "_HEADER = {'User-Agent': 'Mozilla/5.0 (X11; Linux x86_64)'}"
   ]
  },
  {
   "cell_type": "markdown",
   "metadata": {},
   "source": [
    "### Search the Food2Fork API ###"
   ]
  },
  {
   "cell_type": "code",
   "execution_count": 13,
   "metadata": {
    "collapsed": true
   },
   "outputs": [],
   "source": [
    "def search(query, page=1):   \n",
    "    \"\"\"Return a list of recipes from the Food2Fork.com database\"\"\"\n",
    "\n",
    "    # Format the request URL    \n",
    "    api_request = _URL_SEARCH+\"&q={query}&page={page}\".format(query=query,page=page)\n",
    "\n",
    "    # Make the request\n",
    "    request  = urllib2.Request(api_request, headers=_HEADER)\n",
    "    response = urllib2.urlopen(request)\n",
    "    raw = response.read()\n",
    "    json_obj = json.loads(raw)  \n",
    "    \n",
    "    return json_obj['recipes']"
   ]
  },
  {
   "cell_type": "code",
   "execution_count": 14,
   "metadata": {
    "scrolled": true
   },
   "outputs": [
    {
     "name": "stdout",
     "output_type": "stream",
     "text": [
      "http://static.food2fork.com/Bacon2BWrapped2BJalapeno2BPopper2BStuffed2BChicken2B5002B5909939b0e65.jpg\n"
     ]
    },
    {
     "data": {
      "text/plain": [
       "{u'f2f_url': u'http://food2fork.com/view/35120',\n",
       " u'image_url': u'http://static.food2fork.com/Bacon2BWrapped2BJalapeno2BPopper2BStuffed2BChicken2B5002B5909939b0e65.jpg',\n",
       " u'publisher': u'Closet Cooking',\n",
       " u'publisher_url': u'http://closetcooking.com',\n",
       " u'recipe_id': u'35120',\n",
       " u'social_rank': 100.0,\n",
       " u'source_url': u'http://www.closetcooking.com/2012/11/bacon-wrapped-jalapeno-popper-stuffed.html',\n",
       " u'title': u'Bacon Wrapped Jalapeno Popper Stuffed Chicken'}"
      ]
     },
     "execution_count": 14,
     "metadata": {},
     "output_type": "execute_result"
    }
   ],
   "source": [
    "# Search for chicken salad recipes\n",
    "recipes = search('Chicken salad')\n",
    "print(recipes[0]['image_url'])\n",
    "recipes[0]"
   ]
  },
  {
   "cell_type": "markdown",
   "metadata": {},
   "source": [
    "### Request a specific recipe from the API ###"
   ]
  },
  {
   "cell_type": "code",
   "execution_count": 15,
   "metadata": {
    "collapsed": true
   },
   "outputs": [],
   "source": [
    "def getRecipe(recipe_id):\n",
    "    \"\"\"Return the recipe specified by *recipe_id* from Food2Fork's database\"\"\"\n",
    "\n",
    "    # Format the request URL\n",
    "    api_request = _URL_GET+\"&rId={ID}\".format(ID=recipe_id)\n",
    "    \n",
    "    # Make the request\n",
    "    request  = urllib2.Request(api_request, headers=_HEADER)\n",
    "    response = urllib2.urlopen(request)\n",
    "    raw = response.read()\n",
    "    json_obj = json.loads(raw)  \n",
    "    \n",
    "    return json_obj['recipe']"
   ]
  },
  {
   "cell_type": "code",
   "execution_count": 16,
   "metadata": {},
   "outputs": [
    {
     "data": {
      "text/plain": [
       "{u'f2f_url': u'http://food2fork.com/view/35130',\n",
       " u'image_url': u'http://static.food2fork.com/BananasFosterPancakes15000eeed5d6.jpg',\n",
       " u'ingredients': [u'1 cup all purpose flour',\n",
       "  u'1 teaspoon baking powder',\n",
       "  u'1/4 teaspoon salt',\n",
       "  u'1/4 teaspoon cinnamon',\n",
       "  u'1 cup milk',\n",
       "  u'1 egg',\n",
       "  u'2 tablespoons brown sugar',\n",
       "  u'2 tablespoons unsalted butter (melted)',\n",
       "  u'2 overripe bananas (peeled and mashed)',\n",
       "  u'2 tablespoons butter',\n",
       "  u'2 tablespoons brown sugar',\n",
       "  u'2 dashes of cinnamon',\n",
       "  u'2 ripe bananas (peeled and sliced)',\n",
       "  u'2 ounces dark rum\\n'],\n",
       " u'publisher': u'Closet Cooking',\n",
       " u'publisher_url': u'http://closetcooking.com',\n",
       " u'recipe_id': u'35130',\n",
       " u'social_rank': 38.259222092243164,\n",
       " u'source_url': u'http://www.closetcooking.com/2010/05/bananas-foster-pancakes.html',\n",
       " u'title': u'Bananas Foster Pancakes'}"
      ]
     },
     "execution_count": 16,
     "metadata": {},
     "output_type": "execute_result"
    }
   ],
   "source": [
    "r = getRecipe('35130')\n",
    "r"
   ]
  },
  {
   "cell_type": "markdown",
   "metadata": {},
   "source": [
    "### Scrape ingredients from a Food2Fork.com page ###"
   ]
  },
  {
   "cell_type": "code",
   "execution_count": 17,
   "metadata": {
    "collapsed": true
   },
   "outputs": [],
   "source": [
    "def getIngredients(json_obj):\n",
    "    r = getRecipe(json_obj['recipe_id'])\n",
    "    return [i.strip('\\n') for i in r['ingredients']]"
   ]
  },
  {
   "cell_type": "code",
   "execution_count": 23,
   "metadata": {},
   "outputs": [
    {
     "data": {
      "text/plain": [
       "[u'4 small chicken breasts, pounded thin',\n",
       " u'salt and pepper to taste',\n",
       " u'4 jalapenos, diced',\n",
       " u'4 ounces cream cheese, room temperature',\n",
       " u'1 cup cheddar cheese, shredded',\n",
       " u'8 slices bacon']"
      ]
     },
     "execution_count": 23,
     "metadata": {},
     "output_type": "execute_result"
    }
   ],
   "source": [
    "ingredients = getIngredients(recipes[0])\n",
    "ingredients"
   ]
  },
  {
   "cell_type": "markdown",
   "metadata": {},
   "source": [
    "## Use NLTK to parse amounts out from ingredients ##"
   ]
  },
  {
   "cell_type": "code",
   "execution_count": 37,
   "metadata": {
    "collapsed": true
   },
   "outputs": [],
   "source": [
    "from nltk import word_tokenize"
   ]
  },
  {
   "cell_type": "code",
   "execution_count": 33,
   "metadata": {},
   "outputs": [
    {
     "data": {
      "text/plain": [
       "[u'4 small chicken breasts, pounded thin',\n",
       " u'salt and pepper to taste',\n",
       " u'4 jalapenos, diced',\n",
       " u'4 ounces cream cheese, room temperature',\n",
       " u'1 cup cheddar cheese, shredded',\n",
       " u'8 slices bacon']"
      ]
     },
     "execution_count": 33,
     "metadata": {},
     "output_type": "execute_result"
    }
   ],
   "source": [
    "[ingredient for ingredient in ingredients]"
   ]
  },
  {
   "cell_type": "code",
   "execution_count": 41,
   "metadata": {},
   "outputs": [
    {
     "data": {
      "text/plain": [
       "[(u'4', 'CD'),\n",
       " (u'small', 'JJ'),\n",
       " (u'chicken', 'NN'),\n",
       " (u'breasts', 'NNS'),\n",
       " (u',', ','),\n",
       " (u'pounded', 'VBD'),\n",
       " (u'thin', 'JJ')]"
      ]
     },
     "execution_count": 41,
     "metadata": {},
     "output_type": "execute_result"
    }
   ],
   "source": [
    "pos = [nltk.pos_tag(word_tokenize(ingredient)) for ingredient in ingredients]\n",
    "pos[0]"
   ]
  }
 ],
 "metadata": {
  "kernelspec": {
   "display_name": "Python 2",
   "language": "python",
   "name": "python2"
  },
  "language_info": {
   "codemirror_mode": {
    "name": "ipython",
    "version": 2
   },
   "file_extension": ".py",
   "mimetype": "text/x-python",
   "name": "python",
   "nbconvert_exporter": "python",
   "pygments_lexer": "ipython2",
   "version": "2.7.13"
  }
 },
 "nbformat": 4,
 "nbformat_minor": 2
}
