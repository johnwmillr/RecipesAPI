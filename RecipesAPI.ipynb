{
 "cells": [
  {
   "cell_type": "markdown",
   "metadata": {},
   "source": [
    "## Food2Fork API ##\n",
    "www.food2fork.com/about/api"
   ]
  },
  {
   "cell_type": "code",
   "execution_count": 1,
   "metadata": {
    "collapsed": true
   },
   "outputs": [],
   "source": [
    "import re\n",
    "import requests\n",
    "import urllib2\n",
    "from urllib import quote\n",
    "import json\n",
    "from bs4 import BeautifulSoup\n",
    "from matplotlib import pyplot as plt\n",
    "import nltk"
   ]
  },
  {
   "cell_type": "code",
   "execution_count": 2,
   "metadata": {
    "collapsed": true
   },
   "outputs": [],
   "source": [
    "%matplotlib inline"
   ]
  },
  {
   "cell_type": "markdown",
   "metadata": {},
   "source": [
    "### API credentials ###"
   ]
  },
  {
   "cell_type": "code",
   "execution_count": 3,
   "metadata": {
    "collapsed": true
   },
   "outputs": [],
   "source": [
    "def loadCredentials():\n",
    "    filename = 'secrets.txt'\n",
    "    for line in open(filename).readlines():\n",
    "        if \"API\" in line:    \n",
    "            api_key = line.split(\": \")[1].translate(None,'\\n')\n",
    "        \n",
    "    return api_key"
   ]
  },
  {
   "cell_type": "code",
   "execution_count": 4,
   "metadata": {
    "collapsed": true
   },
   "outputs": [],
   "source": [
    "# Load the API Key\n",
    "API_KEY = loadCredentials()\n",
    "\n",
    "# Food2Fork links\n",
    "_URL_API = 'http://food2fork.com/api/'\n",
    "_URL_SEARCH = _URL_API + 'search?' + \"key={0}\".format(API_KEY)\n",
    "_URL_GET = _URL_API + 'get?' + \"key={0}\".format(API_KEY)\n",
    "_HEADER = {'User-Agent': 'Mozilla/5.0 (X11; Linux x86_64)'}"
   ]
  },
  {
   "cell_type": "markdown",
   "metadata": {},
   "source": [
    "### Search the Food2Fork API ###"
   ]
  },
  {
   "cell_type": "code",
   "execution_count": 5,
   "metadata": {
    "collapsed": true
   },
   "outputs": [],
   "source": [
    "def search(query, page=1):   \n",
    "    \"\"\"Return a list of recipes from the Food2Fork.com database\"\"\"\n",
    "\n",
    "    # Format the request URL    \n",
    "    api_request = _URL_SEARCH+\"&q={query}&page={page}\".format(query=query,page=page)\n",
    "\n",
    "    # Make the request\n",
    "    request  = urllib2.Request(api_request, headers=_HEADER)\n",
    "    response = urllib2.urlopen(request)\n",
    "    raw = response.read()\n",
    "    json_obj = json.loads(raw)  \n",
    "    \n",
    "    return json_obj['recipes']       "
   ]
  },
  {
   "cell_type": "code",
   "execution_count": 6,
   "metadata": {
    "scrolled": false
   },
   "outputs": [
    {
     "name": "stdout",
     "output_type": "stream",
     "text": [
      "http://static.food2fork.com/Bacon2BWrapped2BJalapeno2BPopper2BStuffed2BChicken2B5002B5909939b0e65.jpg\n"
     ]
    },
    {
     "data": {
      "text/plain": [
       "{u'f2f_url': u'http://food2fork.com/view/35120',\n",
       " u'image_url': u'http://static.food2fork.com/Bacon2BWrapped2BJalapeno2BPopper2BStuffed2BChicken2B5002B5909939b0e65.jpg',\n",
       " u'publisher': u'Closet Cooking',\n",
       " u'publisher_url': u'http://closetcooking.com',\n",
       " u'recipe_id': u'35120',\n",
       " u'social_rank': 100.0,\n",
       " u'source_url': u'http://www.closetcooking.com/2012/11/bacon-wrapped-jalapeno-popper-stuffed.html',\n",
       " u'title': u'Bacon Wrapped Jalapeno Popper Stuffed Chicken'}"
      ]
     },
     "execution_count": 6,
     "metadata": {},
     "output_type": "execute_result"
    }
   ],
   "source": [
    "# Search for chicken salad recipes\n",
    "recipes = search('Chicken salad')\n",
    "print(recipes[0]['image_url'])\n",
    "recipes[0]"
   ]
  },
  {
   "cell_type": "markdown",
   "metadata": {},
   "source": [
    "### Request a specific recipe from the API ###"
   ]
  },
  {
   "cell_type": "code",
   "execution_count": 7,
   "metadata": {
    "collapsed": true
   },
   "outputs": [],
   "source": [
    "def getRecipe(recipe_id):\n",
    "    \"\"\"Return the recipe specified by *recipe_id* from Food2Fork's database\"\"\"\n",
    "\n",
    "    # Format the request URL\n",
    "    api_request = _URL_GET+\"&rId={ID}\".format(ID=recipe_id)\n",
    "    \n",
    "    # Make the request\n",
    "    request  = urllib2.Request(api_request, headers=_HEADER)\n",
    "    response = urllib2.urlopen(request)\n",
    "    raw = response.read()\n",
    "    json_obj = json.loads(raw)  \n",
    "    \n",
    "    return json_obj['recipe']"
   ]
  },
  {
   "cell_type": "code",
   "execution_count": 8,
   "metadata": {},
   "outputs": [],
   "source": [
    "r = getRecipe('35130')"
   ]
  },
  {
   "cell_type": "markdown",
   "metadata": {},
   "source": [
    "### Scrape ingredients from a Food2Fork.com page ###"
   ]
  },
  {
   "cell_type": "code",
   "execution_count": 9,
   "metadata": {
    "collapsed": true
   },
   "outputs": [],
   "source": [
    "def getIngredients(json_obj):\n",
    "    r = getRecipe(json_obj['recipe_id'])\n",
    "    return [i.strip('\\n') for i in r['ingredients']]"
   ]
  },
  {
   "cell_type": "code",
   "execution_count": 10,
   "metadata": {},
   "outputs": [
    {
     "data": {
      "text/plain": [
       "[u'4 small chicken breasts, pounded thin',\n",
       " u'salt and pepper to taste',\n",
       " u'4 jalapenos, diced',\n",
       " u'4 ounces cream cheese, room temperature',\n",
       " u'1 cup cheddar cheese, shredded',\n",
       " u'8 slices bacon']"
      ]
     },
     "execution_count": 10,
     "metadata": {},
     "output_type": "execute_result"
    }
   ],
   "source": [
    "getIngredients(recipes[0])"
   ]
  },
  {
   "cell_type": "markdown",
   "metadata": {},
   "source": [
    "### Recipe Class ###"
   ]
  },
  {
   "cell_type": "code",
   "execution_count": 12,
   "metadata": {
    "collapsed": true
   },
   "outputs": [],
   "source": [
    "class Recipe(object):\n",
    "    \n",
    "    def __init__(self,json_obj):\n",
    "        self._title = json_obj['title']\n",
    "        self._image_url = json_obj['image_url']\n",
    "        self._publisher = json_obj['publisher']\n",
    "        self._publisher_url = json_obj['publisher_url']\n",
    "        self._recipe_id = json_obj['recipe_id']\n",
    "        self._social_rank = json_obj['social_rank']\n",
    "        self._source_url = json_obj['source_url']        \n",
    "        self._ingredients = getIngredients(json_obj)\n",
    "                            \n",
    "    def __repr__(self):\n",
    "        return self._title\n",
    "    \n",
    "    def __str__(self):\n",
    "        return self._title\n",
    "    \n",
    "    @property\n",
    "    def title(self):\n",
    "        return self._title\n",
    "    \n",
    "    @property\n",
    "    def ingredients(self):\n",
    "        return self._ingredients\n",
    "    \n",
    "    @property\n",
    "    def publisher(self):\n",
    "        return self._publisher\n",
    "    \n",
    "    @property\n",
    "    def URL(self):\n",
    "        return self._source_url"
   ]
  },
  {
   "cell_type": "code",
   "execution_count": 13,
   "metadata": {},
   "outputs": [
    {
     "name": "stdout",
     "output_type": "stream",
     "text": [
      "Bacon Wrapped Jalapeno Popper Stuffed Chicken\n"
     ]
    },
    {
     "data": {
      "text/plain": [
       "[u'4 small chicken breasts, pounded thin',\n",
       " u'salt and pepper to taste',\n",
       " u'4 jalapenos, diced',\n",
       " u'4 ounces cream cheese, room temperature',\n",
       " u'1 cup cheddar cheese, shredded',\n",
       " u'8 slices bacon']"
      ]
     },
     "execution_count": 13,
     "metadata": {},
     "output_type": "execute_result"
    }
   ],
   "source": [
    "BaconChicken = Recipe(recipes[0])\n",
    "print(BaconChicken)\n",
    "BaconChicken.ingredients"
   ]
  }
 ],
 "metadata": {
  "kernelspec": {
   "display_name": "Python 2",
   "language": "python",
   "name": "python2"
  },
  "language_info": {
   "codemirror_mode": {
    "name": "ipython",
    "version": 2
   },
   "file_extension": ".py",
   "mimetype": "text/x-python",
   "name": "python",
   "nbconvert_exporter": "python",
   "pygments_lexer": "ipython2",
   "version": "2.7.13"
  }
 },
 "nbformat": 4,
 "nbformat_minor": 2
}
