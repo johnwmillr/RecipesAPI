{
 "cells": [
  {
   "cell_type": "markdown",
   "metadata": {},
   "source": [
    "## Food2Fork API ##\n",
    "www.food2fork.com/about/api"
   ]
  },
  {
   "cell_type": "code",
   "execution_count": 18,
   "metadata": {
    "collapsed": true
   },
   "outputs": [],
   "source": [
    "import re\n",
    "import requests\n",
    "import urllib2\n",
    "from urllib import quote\n",
    "import json\n",
    "from bs4 import BeautifulSoup\n",
    "from matplotlib import pyplot as plt\n",
    "import nltk"
   ]
  },
  {
   "cell_type": "code",
   "execution_count": 19,
   "metadata": {
    "collapsed": true
   },
   "outputs": [],
   "source": [
    "%matplotlib inline"
   ]
  },
  {
   "cell_type": "markdown",
   "metadata": {},
   "source": [
    "### API credentials ###"
   ]
  },
  {
   "cell_type": "code",
   "execution_count": 20,
   "metadata": {
    "collapsed": true
   },
   "outputs": [],
   "source": [
    "def loadCredentials():\n",
    "    filename = 'secrets.txt'\n",
    "    for line in open(filename).readlines():\n",
    "        if \"API\" in line:    \n",
    "            api_key = line.split(\": \")[1].translate(None,'\\n')\n",
    "        \n",
    "    return api_key"
   ]
  },
  {
   "cell_type": "code",
   "execution_count": 59,
   "metadata": {
    "collapsed": true
   },
   "outputs": [],
   "source": [
    "# Load the API Key\n",
    "API_KEY = loadCredentials()\n",
    "\n",
    "# Food2Fork links\n",
    "_URL_API = 'http://food2fork.com/api/'\n",
    "_URL_SEARCH = _URL_API + 'search?' + \"key={0}\".format(API_KEY)\n",
    "_URL_GET = _URL_API + 'get?' + \"key={0}\".format(API_KEY)\n",
    "_HEADER = {'User-Agent': 'Mozilla/5.0 (X11; Linux x86_64)'}"
   ]
  },
  {
   "cell_type": "markdown",
   "metadata": {},
   "source": [
    "### Search the Food2Fork API ###"
   ]
  },
  {
   "cell_type": "code",
   "execution_count": 60,
   "metadata": {},
   "outputs": [],
   "source": [
    "def search(query, page=1):   \n",
    "    \"\"\"Return a list of recipes from the Food2Fork.com database\"\"\"\n",
    "\n",
    "    # Format the request URL    \n",
    "    api_request = _URL_SEARCH+\"&q={query}&page={page}\".format(query=query,page=page)\n",
    "\n",
    "    # Make the request\n",
    "    request  = urllib2.Request(api_request, headers=_HEADER)\n",
    "    response = urllib2.urlopen(request)\n",
    "    raw = response.read()\n",
    "    json_obj = json.loads(raw)  \n",
    "    \n",
    "    return json_obj['recipes']       "
   ]
  },
  {
   "cell_type": "code",
   "execution_count": 93,
   "metadata": {
    "scrolled": true
   },
   "outputs": [
    {
     "name": "stdout",
     "output_type": "stream",
     "text": [
      "http://static.food2fork.com/Bacon2BWrapped2BJalapeno2BPopper2BStuffed2BChicken2B5002B5909939b0e65.jpg\n"
     ]
    },
    {
     "data": {
      "text/plain": [
       "{u'f2f_url': u'http://food2fork.com/view/35120',\n",
       " u'image_url': u'http://static.food2fork.com/Bacon2BWrapped2BJalapeno2BPopper2BStuffed2BChicken2B5002B5909939b0e65.jpg',\n",
       " u'publisher': u'Closet Cooking',\n",
       " u'publisher_url': u'http://closetcooking.com',\n",
       " u'recipe_id': u'35120',\n",
       " u'social_rank': 100.0,\n",
       " u'source_url': u'http://www.closetcooking.com/2012/11/bacon-wrapped-jalapeno-popper-stuffed.html',\n",
       " u'title': u'Bacon Wrapped Jalapeno Popper Stuffed Chicken'}"
      ]
     },
     "execution_count": 93,
     "metadata": {},
     "output_type": "execute_result"
    }
   ],
   "source": [
    "# Search for chicken salad recipes\n",
    "recipes = search('Chicken salad')\n",
    "print(recipes[0]['image_url'])\n",
    "recipes[0]"
   ]
  },
  {
   "cell_type": "markdown",
   "metadata": {},
   "source": [
    "### Request a specific recipe from the API ###"
   ]
  },
  {
   "cell_type": "code",
   "execution_count": 90,
   "metadata": {
    "collapsed": true
   },
   "outputs": [],
   "source": [
    "def getRecipe(recipe_id):\n",
    "    \"\"\"Return the recipe specified by *recipe_id* from Food2Fork's database\"\"\"\n",
    "\n",
    "    # Format the request URL\n",
    "    api_request = _URL_GET+\"&rId={ID}\".format(ID=recipe_id)\n",
    "    \n",
    "    # Make the request\n",
    "    request  = urllib2.Request(api_request, headers=_HEADER)\n",
    "    response = urllib2.urlopen(request)\n",
    "    raw = response.read()\n",
    "    json_obj = json.loads(raw)  \n",
    "    \n",
    "    return json_obj['recipe']"
   ]
  },
  {
   "cell_type": "code",
   "execution_count": 92,
   "metadata": {},
   "outputs": [
    {
     "data": {
      "text/plain": [
       "{u'f2f_url': u'http://food2fork.com/view/35130',\n",
       " u'image_url': u'http://static.food2fork.com/BananasFosterPancakes15000eeed5d6.jpg',\n",
       " u'ingredients': [u'1 cup all purpose flour',\n",
       "  u'1 teaspoon baking powder',\n",
       "  u'1/4 teaspoon salt',\n",
       "  u'1/4 teaspoon cinnamon',\n",
       "  u'1 cup milk',\n",
       "  u'1 egg',\n",
       "  u'2 tablespoons brown sugar',\n",
       "  u'2 tablespoons unsalted butter (melted)',\n",
       "  u'2 overripe bananas (peeled and mashed)',\n",
       "  u'2 tablespoons butter',\n",
       "  u'2 tablespoons brown sugar',\n",
       "  u'2 dashes of cinnamon',\n",
       "  u'2 ripe bananas (peeled and sliced)',\n",
       "  u'2 ounces dark rum\\n'],\n",
       " u'publisher': u'Closet Cooking',\n",
       " u'publisher_url': u'http://closetcooking.com',\n",
       " u'recipe_id': u'35130',\n",
       " u'social_rank': 38.259222092243164,\n",
       " u'source_url': u'http://www.closetcooking.com/2010/05/bananas-foster-pancakes.html',\n",
       " u'title': u'Bananas Foster Pancakes'}"
      ]
     },
     "execution_count": 92,
     "metadata": {},
     "output_type": "execute_result"
    }
   ],
   "source": [
    "r = getRecipe('35130')\n",
    "r"
   ]
  },
  {
   "cell_type": "markdown",
   "metadata": {},
   "source": [
    "### Scrape ingredients from a Food2Fork.com page ###"
   ]
  },
  {
   "cell_type": "code",
   "execution_count": 95,
   "metadata": {},
   "outputs": [
    {
     "data": {
      "text/plain": [
       "{u'f2f_url': u'http://food2fork.com/view/35120',\n",
       " u'image_url': u'http://static.food2fork.com/Bacon2BWrapped2BJalapeno2BPopper2BStuffed2BChicken2B5002B5909939b0e65.jpg',\n",
       " u'publisher': u'Closet Cooking',\n",
       " u'publisher_url': u'http://closetcooking.com',\n",
       " u'recipe_id': u'35120',\n",
       " u'social_rank': 100.0,\n",
       " u'source_url': u'http://www.closetcooking.com/2012/11/bacon-wrapped-jalapeno-popper-stuffed.html',\n",
       " u'title': u'Bacon Wrapped Jalapeno Popper Stuffed Chicken'}"
      ]
     },
     "execution_count": 95,
     "metadata": {},
     "output_type": "execute_result"
    }
   ],
   "source": [
    "recipes[0]"
   ]
  },
  {
   "cell_type": "code",
   "execution_count": 110,
   "metadata": {
    "collapsed": true
   },
   "outputs": [],
   "source": [
    "def getIngredients(json_obj):\n",
    "    r = getRecipe(json_obj['recipe_id'])\n",
    "    return [i.strip('\\n') for i in r['ingredients']]"
   ]
  },
  {
   "cell_type": "code",
   "execution_count": 111,
   "metadata": {
    "collapsed": true
   },
   "outputs": [],
   "source": [
    "def OLD_getIngredients(json_obj):\n",
    "    URL = json_obj['f2f_url']\n",
    "    page = requests.get(URL)\n",
    "    html = BeautifulSoup(page.text, \"html.parser\")\n",
    "    \n",
    "    ingredientsList = html.find_all(\"li\")\n",
    "    ingredients = [i.text.strip('\\n') for i in ingredientsList if (\"ingredients\" in i.decode()) and (i.text!='')] # Feels like a kludge...\n",
    "    return ingredients"
   ]
  },
  {
   "cell_type": "code",
   "execution_count": 112,
   "metadata": {},
   "outputs": [
    {
     "data": {
      "text/plain": [
       "[u'4 small chicken breasts, pounded thin',\n",
       " u'salt and pepper to taste',\n",
       " u'4 jalapenos, diced',\n",
       " u'4 ounces cream cheese, room temperature',\n",
       " u'1 cup cheddar cheese, shredded',\n",
       " u'8 slices bacon']"
      ]
     },
     "execution_count": 112,
     "metadata": {},
     "output_type": "execute_result"
    }
   ],
   "source": [
    "getIngredients(recipes[0])"
   ]
  },
  {
   "cell_type": "code",
   "execution_count": 113,
   "metadata": {},
   "outputs": [
    {
     "data": {
      "text/plain": [
       "[(u'Bacon Wrapped Jalapeno Popper Stuffed Chicken',\n",
       "  [u'4 small chicken breasts, pounded thin',\n",
       "   u'salt and pepper to taste',\n",
       "   u'4 jalapenos, diced',\n",
       "   u'4 ounces cream cheese, room temperature',\n",
       "   u'1 cup cheddar cheese, shredded',\n",
       "   u'8 slices bacon']),\n",
       " (u'Buffalo Chicken Chowder',\n",
       "  [u'2 tablespoons butter',\n",
       "   u'1 pound chicken, cut into bite sized pieces',\n",
       "   u'1 onion, diced',\n",
       "   u'2 carrots, diced',\n",
       "   u'2 stalks celery, diced',\n",
       "   u'2 cloves garlic, chopped',\n",
       "   u'1/4 cup flour (rice flour for gluten free)',\n",
       "   u'3 cups chicken stock',\n",
       "   u'hot sauce to taste (I used 1/4 cup Franks Red Hot sauce)',\n",
       "   u'1 large yukon gold or other boiling potato, peeled and cut into bite sized pieces',\n",
       "   u'salt and pepper to taste',\n",
       "   u'1 cup heavy cream',\n",
       "   u'1/4 cup blue cheese, crumbled']),\n",
       " (u'Zesty Slow Cooker Chicken Barbeque',\n",
       "  [u'6 frozen skinless, boneless chicken breast halves',\n",
       "   u'1 (12 ounce) bottle barbeque sauce',\n",
       "   u'1/2 cup Italian salad dressing',\n",
       "   u'1/4 cup brown sugar',\n",
       "   u'2 tablespoons Worcestershire sauce']),\n",
       " (u'Roast Chicken',\n",
       "  [u'1 whole Chicken, Rinsed And Patted Dry',\n",
       "   u'3/4 cups Butter, Softened',\n",
       "   u'3 whole Lemons',\n",
       "   u'4 sprigs Rosemary',\n",
       "   u'Salt And Pepper, to taste'])]"
      ]
     },
     "execution_count": 113,
     "metadata": {},
     "output_type": "execute_result"
    }
   ],
   "source": [
    "[(recipe['title'],getIngredients(recipe)) for recipe in recipes[:4]]"
   ]
  },
  {
   "cell_type": "markdown",
   "metadata": {},
   "source": [
    "## Use NLTK to parse amounts out from ingredients ##"
   ]
  },
  {
   "cell_type": "code",
   "execution_count": null,
   "metadata": {
    "collapsed": true
   },
   "outputs": [],
   "source": [
    "import nltk"
   ]
  },
  {
   "cell_type": "code",
   "execution_count": 130,
   "metadata": {},
   "outputs": [
    {
     "data": {
      "text/plain": [
       "[u'1']"
      ]
     },
     "execution_count": 130,
     "metadata": {},
     "output_type": "execute_result"
    }
   ],
   "source": [
    "re.findall(\"[0-9]\",ingredients[0])"
   ]
  },
  {
   "cell_type": "markdown",
   "metadata": {},
   "source": [
    "### Load json object from disk (for offline work) ###"
   ]
  },
  {
   "cell_type": "code",
   "execution_count": 18,
   "metadata": {
    "collapsed": true
   },
   "outputs": [],
   "source": [
    "raw = open(\"cookies.txt\",\"r\").read()\n",
    "# raw = open(\"chicken.txt\",\"r\").read()\n",
    "json_obj = json.loads(raw)"
   ]
  },
  {
   "cell_type": "code",
   "execution_count": 11,
   "metadata": {
    "collapsed": true
   },
   "outputs": [],
   "source": [
    "# This is how you save a json object as a text file. It's easy!\n",
    "with open(\"cookies.txt\",\"w\") as outfile:\n",
    "    json.dump(json_obj, outfile)"
   ]
  },
  {
   "cell_type": "markdown",
   "metadata": {},
   "source": [
    "### Misc ###"
   ]
  },
  {
   "cell_type": "code",
   "execution_count": 21,
   "metadata": {},
   "outputs": [
    {
     "data": {
      "image/png": "[encoded data removed]",
      "text/plain": [
       "<matplotlib.figure.Figure at 0x10f558d10>"
      ]
     },
     "metadata": {},
     "output_type": "display_data"
    }
   ],
   "source": [
    "scores = [recipe['social_rank'] for recipe in json_obj]\n",
    "plt.plot(scores,'o')\n",
    "plt.show()"
   ]
  }
 ],
 "metadata": {
  "kernelspec": {
   "display_name": "Python 2",
   "language": "python",
   "name": "python2"
  },
  "language_info": {
   "codemirror_mode": {
    "name": "ipython",
    "version": 2
   },
   "file_extension": ".py",
   "mimetype": "text/x-python",
   "name": "python",
   "nbconvert_exporter": "python",
   "pygments_lexer": "ipython2",
   "version": "2.7.13"
  }
 },
 "nbformat": 4,
 "nbformat_minor": 2
}
