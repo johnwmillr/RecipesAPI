{
 "cells": [
  {
   "cell_type": "markdown",
   "metadata": {},
   "source": [
    "## Food2Fork API ##\n",
    "www.food2fork.com/about/api"
   ]
  },
  {
   "cell_type": "code",
   "execution_count": 20,
   "metadata": {
    "collapsed": true
   },
   "outputs": [],
   "source": [
    "import requests\n",
    "import urllib2\n",
    "import json"
   ]
  },
  {
   "cell_type": "markdown",
   "metadata": {},
   "source": [
    "#### Load API credentials ####"
   ]
  },
  {
   "cell_type": "code",
   "execution_count": 25,
   "metadata": {},
   "outputs": [],
   "source": [
    "def loadCredentials():\n",
    "    filename = 'secrets.txt'\n",
    "    for line in open(filename).readlines():\n",
    "        if \"API\" in line:    \n",
    "            api_key = line.split(\": \")[1].translate(None,'\\n')\n",
    "        \n",
    "    return api_key"
   ]
  },
  {
   "cell_type": "code",
   "execution_count": 48,
   "metadata": {},
   "outputs": [],
   "source": [
    "API_KEY = loadCredentials()"
   ]
  },
  {
   "cell_type": "code",
   "execution_count": 49,
   "metadata": {
    "collapsed": true
   },
   "outputs": [],
   "source": [
    "URL_API = 'http://food2fork.com/api'\n",
    "URL_SEARCH = URL_API + '/search/?'\n",
    "URL_GET = URL_API + '/get/?'\n",
    "\n",
    "# Base URLs\n",
    "search_url = \"http://food2fork.com/api/search\"\n",
    "recipe_url = \"http://food2fork.com/api/get\""
   ]
  },
  {
   "cell_type": "markdown",
   "metadata": {},
   "source": [
    "#### Make a GET request to the API ####"
   ]
  },
  {
   "cell_type": "code",
   "execution_count": 50,
   "metadata": {},
   "outputs": [
    {
     "data": {
      "text/plain": [
       "dict_keys([u'count', u'recipes'])"
      ]
     },
     "execution_count": 50,
     "metadata": {},
     "output_type": "execute_result"
    }
   ],
   "source": [
    "# api_request = search_url + \"\"\n",
    "api_request = \"http://food2fork.com/api/search?key=\"+API_KEY+\"&q=shredded%20chicken\"\n",
    "\n",
    "# I don't understand headers well enough yet, but I got a 403 error without this header\n",
    "# https://en.wikipedia.org/wiki/User_agent\n",
    "hdr = {'User-Agent': 'Mozilla/5.0 (X11; Linux x86_64)'}\n",
    "\n",
    "request = urllib2.Request(api_request, headers=hdr)\n",
    "response = urllib2.urlopen(request)\n",
    "raw = response.read()\n",
    "json_obj = json.loads(raw)\n",
    "json_obj.viewkeys()\n"
   ]
  },
  {
   "cell_type": "code",
   "execution_count": 47,
   "metadata": {},
   "outputs": [
    {
     "data": {
      "text/plain": [
       "[u'Buffalo Chicken Grilled Cheese Sandwich',\n",
       " u'Slow Cooker Chicken Tortilla Soup',\n",
       " u'Mac and Cheese with Roasted Chicken, Goat Cheese, and Rosemary',\n",
       " u'White Chicken Enchiladas',\n",
       " u'Cauliflower Pizza Crust (with BBQ Chicken Pizza)',\n",
       " u'Bacon Wrapped Buffalo Chicken Jalapeno Poppers',\n",
       " u'Buffalo Chicken Potato Skins',\n",
       " u'Sweet Chili Chicken Quesadilla',\n",
       " u'BBQ Chicken Quinoa Salad',\n",
       " u'Lemon Chicken Orzo Soup',\n",
       " u'Barbecue Chicken Pizza',\n",
       " u'Buffalo Chicken Quinoa Fritters',\n",
       " u'Spicy Peanut Chicken Grilled Cheese Sandwich (aka The Chicken Satay Melt)',\n",
       " u'Cheesy Grown Up SpaghettiOs',\n",
       " u'Slow Cooker Chicken Enchilada Soup',\n",
       " u'Tortilla Soup',\n",
       " u'Chicken and Tortellini Soup',\n",
       " u'Chicken Enchilada Stuffed Zucchini',\n",
       " u'Chicken, Spinach, and Noodle Casserole',\n",
       " u'Easy Chicken and Rice Soup',\n",
       " u'Chicken, Roasted Red Pepper and Goat Cheese Lasagna',\n",
       " u'Buffalo Chicken Sushi',\n",
       " u'Cauliflower Pizza Crust (with BBQ Chicken Pizza)',\n",
       " u'Chicken Bacon and Ranch Stacked Enchiladas',\n",
       " u'Bang Bang Chicken',\n",
       " u'Spicy Peanut Chicken Quesadillas',\n",
       " u'Outrageous Warm Chicken Nacho Dip',\n",
       " u'Chicken Tortilla Soup Recipe',\n",
       " u'Basic Chicken Quesadillas Recipe',\n",
       " u'Chicken and Gruyre Turnovers']"
      ]
     },
     "execution_count": 47,
     "metadata": {},
     "output_type": "execute_result"
    }
   ],
   "source": [
    "[recipe['title'] for recipe in json_obj['recipes']]"
   ]
  },
  {
   "cell_type": "code",
   "execution_count": 54,
   "metadata": {},
   "outputs": [
    {
     "data": {
      "text/plain": [
       "{u'f2f_url': u'http://food2fork.com/view/35171',\n",
       " u'image_url': u'http://static.food2fork.com/Buffalo2BChicken2BGrilled2BCheese2BSandwich2B5002B4983f2702fe4.jpg',\n",
       " u'publisher': u'Closet Cooking',\n",
       " u'publisher_url': u'http://closetcooking.com',\n",
       " u'recipe_id': u'35171',\n",
       " u'social_rank': 100.0,\n",
       " u'source_url': u'http://www.closetcooking.com/2011/08/buffalo-chicken-grilled-cheese-sandwich.html',\n",
       " u'title': u'Buffalo Chicken Grilled Cheese Sandwich'}"
      ]
     },
     "execution_count": 54,
     "metadata": {},
     "output_type": "execute_result"
    }
   ],
   "source": [
    "json_obj['recipes'][0]"
   ]
  }
 ],
 "metadata": {
  "kernelspec": {
   "display_name": "Python 2",
   "language": "python",
   "name": "python2"
  },
  "language_info": {
   "codemirror_mode": {
    "name": "ipython",
    "version": 2
   },
   "file_extension": ".py",
   "mimetype": "text/x-python",
   "name": "python",
   "nbconvert_exporter": "python",
   "pygments_lexer": "ipython2",
   "version": "2.7.13"
  }
 },
 "nbformat": 4,
 "nbformat_minor": 2
}
